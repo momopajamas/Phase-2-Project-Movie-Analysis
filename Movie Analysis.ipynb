{
 "cells": [
  {
   "cell_type": "markdown",
   "id": "ed78282b-8012-4f79-ba0c-e06a492878db",
   "metadata": {},
   "source": [
    "# So, You Want to Get into Movies?"
   ]
  },
  {
   "cell_type": "markdown",
   "id": "8f8c3acd-d4b8-422a-aa78-21a7b00615b5",
   "metadata": {},
   "source": [
    "- Mohammad Abou-Ghazala\n",
    "- **Instructor:** Mark Barbour"
   ]
  },
  {
   "cell_type": "markdown",
   "id": "19a8812b-bed2-4545-a21f-0a17e237e80b",
   "metadata": {},
   "source": [
    "## 1. Overview\n"
   ]
  },
  {
   "cell_type": "markdown",
   "id": "4e1e4785-9008-4e1e-8b97-0927a912bd92",
   "metadata": {},
   "source": [
    "My company wishes to step into the movie-making business, and as a newcomer, it wants insight into which movies are currently performing the best and recommendations as to which types of movies to create. I work with datasets from IMDB and Box Office Mojo to learn which movies perform the best at the box office, and which movies are best received among audiences and critics. As a result, I'm able to recommend 10 genres of movies to start creating."
   ]
  },
  {
   "cell_type": "markdown",
   "id": "8d66d9d2-cfb6-4c4e-924b-ef01d2a566ec",
   "metadata": {},
   "source": [
    "## 2. Business Problem"
   ]
  },
  {
   "cell_type": "markdown",
   "id": "15309494-74d7-46f8-8b76-de96e93dfab6",
   "metadata": {},
   "source": [
    "As the COVID-19 pandemic has more or less subsided, it left an indelible mark on the movie theater world, particularly with regards to the role of streaming platforms. A movie's success can no longer just be measured in terms of profits generated at the box office, as movies often are released straight to streaming platforms or in conjunction with a theatrical release, in addition to the fact that movies will often receive a \"second life\" upon its release on streaming. \n",
    "\n",
    "With this context in mind, we should attempt to answer the following questions:\n",
    "1. Which movies tend to perform the best in terms of gross?\n",
    "2. Which movies are well-received by audiences and thus more likely to be in demand by streaming platforms?"
   ]
  },
  {
   "cell_type": "markdown",
   "id": "ab854f01-f58b-43a4-809b-4d66204193a8",
   "metadata": {},
   "source": [
    "## 3. Data Understanding"
   ]
  },
  {
   "cell_type": "markdown",
   "id": "b061746f-00d6-49ed-a5b5-f4dbefc8c554",
   "metadata": {},
   "source": [
    "`IMDB` is considered an essential source for data on movies, their reception, and performance, as it contains basic information on a movie's production as well as crowd-sourced user reviews. The IMDB dataset I use is an SQL file with two tables of particular interest:\n",
    "- `movie_ratings` containing information such as number of votes and the average rating for each film\n",
    "- `movie_basics` containing basic information such as a movie's release data, genres, and runtime\n",
    "\n",
    "There are three factors here that are of interest to us:\n",
    "1. `Genres` which can tell us which types of movies are received well, generally speaking\n",
    "2. `Average Rating` which tells us which movies were generally well-received by audiences and critics\n",
    "3. `Number of Votes` which tell us how many individuals gave ratings for a movie, whether good or bad\n",
    "\n",
    "The issue to keep an eye on for our purposes is that this dataset contains information on all kinds of movies, including lesser known titles that may have had a negligible performance at the box office but still garnered a niche cult following, for example. In essence, these factors will help us to determine which types of films are more likely to reach a wider audience (represented by `Number of Votes`) and which are best received critically (`Average Rating`), both of which can determine a movie's demand among streaming platforms following theatrical release.\n",
    "\n",
    "What is also worthy of note is that the vast majority of films listed include a wide variety of genre combinations, with an estimated count of combinations in the tens of thousands. Of course it will be much more difficult to analyze genres based on these unique combinations, so instead we need to look at which genres appear the most within those combinations among the best performing movies.\n",
    "\n",
    "The other dataset I rely on, `Box Office Mojo`, contains data on a movie's domestic and foreign gross. This dataset is more limited, containing information for just a few thousand compared to `IMDB`'s tens of thousands. Nonetheless, we can use the Box Office data to reinforce our analysis as to which movies perform best in theaters if we combine the two datasets based on which movies appear in both."
   ]
  },
  {
   "cell_type": "markdown",
   "id": "0696ca16-74e8-41c5-bca0-4d732571373f",
   "metadata": {},
   "source": [
    "## 4. Data Preparation"
   ]
  },
  {
   "cell_type": "markdown",
   "id": "450a2a7a-3aab-460a-8ef0-5549bbfd67a8",
   "metadata": {},
   "source": [
    "We begin by importing the necessary libraries to load the SQL files for IMDB. As mentioned above, we are interested primarily in two tables: `movie_basics` and `movie_ratings.` We will join these two tables on their shared column, `movie_id`."
   ]
  },
  {
   "cell_type": "code",
   "execution_count": 1,
   "id": "827f4b02-ff3c-45a3-8001-864426d54b3b",
   "metadata": {},
   "outputs": [
    {
     "name": "stderr",
     "output_type": "stream",
     "text": [
      "/var/folders/kc/5d_pp5b57l9cv1n38nnw2p7r0000gn/T/ipykernel_4929/2977640863.py:3: DeprecationWarning: \n",
      "Pyarrow will become a required dependency of pandas in the next major release of pandas (pandas 3.0),\n",
      "(to allow more performant data types, such as the Arrow string type, and better interoperability with other libraries)\n",
      "but was not found to be installed on your system.\n",
      "If this would cause problems for you,\n",
      "please provide us feedback at https://github.com/pandas-dev/pandas/issues/54466\n",
      "        \n",
      "  import pandas as pd\n"
     ]
    }
   ],
   "source": [
    "#importing libraries\n",
    "\n",
    "import pandas as pd\n",
    "import sqlite3\n",
    "import warnings\n",
    "warnings.filterwarnings('ignore', category=DeprecationWarning)\n",
    "\n",
    "import zipfile\n",
    "with zipfile.ZipFile('im.db.zip', 'r') as zip_ref:\n",
    "    zip_ref.extractall('.')"
   ]
  },
  {
   "cell_type": "code",
   "execution_count": 2,
   "id": "0616a3b6-f7a0-44b0-ae5a-c02c1bde5696",
   "metadata": {},
   "outputs": [],
   "source": [
    "#establishing the connection\n",
    "\n",
    "conn = sqlite3.connect('im.db')\n",
    "cur = conn.cursor()"
   ]
  },
  {
   "cell_type": "code",
   "execution_count": 3,
   "id": "ce376e13-a50d-4262-96f1-4776ebcbd11a",
   "metadata": {},
   "outputs": [
    {
     "data": {
      "text/html": [
       "<div>\n",
       "<style scoped>\n",
       "    .dataframe tbody tr th:only-of-type {\n",
       "        vertical-align: middle;\n",
       "    }\n",
       "\n",
       "    .dataframe tbody tr th {\n",
       "        vertical-align: top;\n",
       "    }\n",
       "\n",
       "    .dataframe thead th {\n",
       "        text-align: right;\n",
       "    }\n",
       "</style>\n",
       "<table border=\"1\" class=\"dataframe\">\n",
       "  <thead>\n",
       "    <tr style=\"text-align: right;\">\n",
       "      <th></th>\n",
       "      <th>type</th>\n",
       "      <th>name</th>\n",
       "      <th>tbl_name</th>\n",
       "      <th>rootpage</th>\n",
       "      <th>sql</th>\n",
       "    </tr>\n",
       "  </thead>\n",
       "  <tbody>\n",
       "    <tr>\n",
       "      <th>0</th>\n",
       "      <td>table</td>\n",
       "      <td>movie_basics</td>\n",
       "      <td>movie_basics</td>\n",
       "      <td>2</td>\n",
       "      <td>CREATE TABLE \"movie_basics\" (\\n\"movie_id\" TEXT...</td>\n",
       "    </tr>\n",
       "    <tr>\n",
       "      <th>1</th>\n",
       "      <td>table</td>\n",
       "      <td>directors</td>\n",
       "      <td>directors</td>\n",
       "      <td>3</td>\n",
       "      <td>CREATE TABLE \"directors\" (\\n\"movie_id\" TEXT,\\n...</td>\n",
       "    </tr>\n",
       "    <tr>\n",
       "      <th>2</th>\n",
       "      <td>table</td>\n",
       "      <td>known_for</td>\n",
       "      <td>known_for</td>\n",
       "      <td>4</td>\n",
       "      <td>CREATE TABLE \"known_for\" (\\n\"person_id\" TEXT,\\...</td>\n",
       "    </tr>\n",
       "    <tr>\n",
       "      <th>3</th>\n",
       "      <td>table</td>\n",
       "      <td>movie_akas</td>\n",
       "      <td>movie_akas</td>\n",
       "      <td>5</td>\n",
       "      <td>CREATE TABLE \"movie_akas\" (\\n\"movie_id\" TEXT,\\...</td>\n",
       "    </tr>\n",
       "    <tr>\n",
       "      <th>4</th>\n",
       "      <td>table</td>\n",
       "      <td>movie_ratings</td>\n",
       "      <td>movie_ratings</td>\n",
       "      <td>6</td>\n",
       "      <td>CREATE TABLE \"movie_ratings\" (\\n\"movie_id\" TEX...</td>\n",
       "    </tr>\n",
       "    <tr>\n",
       "      <th>5</th>\n",
       "      <td>table</td>\n",
       "      <td>persons</td>\n",
       "      <td>persons</td>\n",
       "      <td>7</td>\n",
       "      <td>CREATE TABLE \"persons\" (\\n\"person_id\" TEXT,\\n ...</td>\n",
       "    </tr>\n",
       "    <tr>\n",
       "      <th>6</th>\n",
       "      <td>table</td>\n",
       "      <td>principals</td>\n",
       "      <td>principals</td>\n",
       "      <td>8</td>\n",
       "      <td>CREATE TABLE \"principals\" (\\n\"movie_id\" TEXT,\\...</td>\n",
       "    </tr>\n",
       "    <tr>\n",
       "      <th>7</th>\n",
       "      <td>table</td>\n",
       "      <td>writers</td>\n",
       "      <td>writers</td>\n",
       "      <td>9</td>\n",
       "      <td>CREATE TABLE \"writers\" (\\n\"movie_id\" TEXT,\\n  ...</td>\n",
       "    </tr>\n",
       "  </tbody>\n",
       "</table>\n",
       "</div>"
      ],
      "text/plain": [
       "    type           name       tbl_name  rootpage  \\\n",
       "0  table   movie_basics   movie_basics         2   \n",
       "1  table      directors      directors         3   \n",
       "2  table      known_for      known_for         4   \n",
       "3  table     movie_akas     movie_akas         5   \n",
       "4  table  movie_ratings  movie_ratings         6   \n",
       "5  table        persons        persons         7   \n",
       "6  table     principals     principals         8   \n",
       "7  table        writers        writers         9   \n",
       "\n",
       "                                                 sql  \n",
       "0  CREATE TABLE \"movie_basics\" (\\n\"movie_id\" TEXT...  \n",
       "1  CREATE TABLE \"directors\" (\\n\"movie_id\" TEXT,\\n...  \n",
       "2  CREATE TABLE \"known_for\" (\\n\"person_id\" TEXT,\\...  \n",
       "3  CREATE TABLE \"movie_akas\" (\\n\"movie_id\" TEXT,\\...  \n",
       "4  CREATE TABLE \"movie_ratings\" (\\n\"movie_id\" TEX...  \n",
       "5  CREATE TABLE \"persons\" (\\n\"person_id\" TEXT,\\n ...  \n",
       "6  CREATE TABLE \"principals\" (\\n\"movie_id\" TEXT,\\...  \n",
       "7  CREATE TABLE \"writers\" (\\n\"movie_id\" TEXT,\\n  ...  "
      ]
     },
     "execution_count": 3,
     "metadata": {},
     "output_type": "execute_result"
    }
   ],
   "source": [
    "#loading the SQL directory containing some of the metadata regarding all the tables within the SQL file\n",
    "\n",
    "pd.read_sql(\"\"\"\n",
    "SELECT * \n",
    "FROM sqlite_schema\n",
    "WHERE type='table'\n",
    "\"\"\", conn)"
   ]
  },
  {
   "cell_type": "markdown",
   "id": "7423b8e6-62da-4458-bb7d-fff845d290d5",
   "metadata": {},
   "source": [
    "### 4.a. Merging `movie_basics` and `movie_ratings` into single dataframe"
   ]
  },
  {
   "cell_type": "code",
   "execution_count": 4,
   "id": "214f3061-2d8d-442a-9db2-28038438cf7c",
   "metadata": {},
   "outputs": [],
   "source": [
    "#joining the two tables on the shared column of `movie_ratings`\n",
    "imdb_movie_ratings = pd.read_sql(\"\"\"\n",
    "SELECT * FROM movie_basics\n",
    "LEFT JOIN movie_ratings\n",
    "USING(movie_id)\n",
    "\"\"\", conn)"
   ]
  },
  {
   "cell_type": "code",
   "execution_count": 5,
   "id": "760077f0-3c0d-421a-8b51-f2c062d61d60",
   "metadata": {},
   "outputs": [
    {
     "data": {
      "text/html": [
       "<div>\n",
       "<style scoped>\n",
       "    .dataframe tbody tr th:only-of-type {\n",
       "        vertical-align: middle;\n",
       "    }\n",
       "\n",
       "    .dataframe tbody tr th {\n",
       "        vertical-align: top;\n",
       "    }\n",
       "\n",
       "    .dataframe thead th {\n",
       "        text-align: right;\n",
       "    }\n",
       "</style>\n",
       "<table border=\"1\" class=\"dataframe\">\n",
       "  <thead>\n",
       "    <tr style=\"text-align: right;\">\n",
       "      <th></th>\n",
       "      <th>movie_id</th>\n",
       "      <th>primary_title</th>\n",
       "      <th>original_title</th>\n",
       "      <th>start_year</th>\n",
       "      <th>runtime_minutes</th>\n",
       "      <th>genres</th>\n",
       "      <th>averagerating</th>\n",
       "      <th>numvotes</th>\n",
       "    </tr>\n",
       "  </thead>\n",
       "  <tbody>\n",
       "    <tr>\n",
       "      <th>0</th>\n",
       "      <td>tt0063540</td>\n",
       "      <td>Sunghursh</td>\n",
       "      <td>Sunghursh</td>\n",
       "      <td>2013</td>\n",
       "      <td>175.0</td>\n",
       "      <td>Action,Crime,Drama</td>\n",
       "      <td>7.0</td>\n",
       "      <td>77.0</td>\n",
       "    </tr>\n",
       "    <tr>\n",
       "      <th>1</th>\n",
       "      <td>tt0066787</td>\n",
       "      <td>One Day Before the Rainy Season</td>\n",
       "      <td>Ashad Ka Ek Din</td>\n",
       "      <td>2019</td>\n",
       "      <td>114.0</td>\n",
       "      <td>Biography,Drama</td>\n",
       "      <td>7.2</td>\n",
       "      <td>43.0</td>\n",
       "    </tr>\n",
       "    <tr>\n",
       "      <th>2</th>\n",
       "      <td>tt0069049</td>\n",
       "      <td>The Other Side of the Wind</td>\n",
       "      <td>The Other Side of the Wind</td>\n",
       "      <td>2018</td>\n",
       "      <td>122.0</td>\n",
       "      <td>Drama</td>\n",
       "      <td>6.9</td>\n",
       "      <td>4517.0</td>\n",
       "    </tr>\n",
       "    <tr>\n",
       "      <th>3</th>\n",
       "      <td>tt0069204</td>\n",
       "      <td>Sabse Bada Sukh</td>\n",
       "      <td>Sabse Bada Sukh</td>\n",
       "      <td>2018</td>\n",
       "      <td>NaN</td>\n",
       "      <td>Comedy,Drama</td>\n",
       "      <td>6.1</td>\n",
       "      <td>13.0</td>\n",
       "    </tr>\n",
       "    <tr>\n",
       "      <th>4</th>\n",
       "      <td>tt0100275</td>\n",
       "      <td>The Wandering Soap Opera</td>\n",
       "      <td>La Telenovela Errante</td>\n",
       "      <td>2017</td>\n",
       "      <td>80.0</td>\n",
       "      <td>Comedy,Drama,Fantasy</td>\n",
       "      <td>6.5</td>\n",
       "      <td>119.0</td>\n",
       "    </tr>\n",
       "  </tbody>\n",
       "</table>\n",
       "</div>"
      ],
      "text/plain": [
       "    movie_id                    primary_title              original_title  \\\n",
       "0  tt0063540                        Sunghursh                   Sunghursh   \n",
       "1  tt0066787  One Day Before the Rainy Season             Ashad Ka Ek Din   \n",
       "2  tt0069049       The Other Side of the Wind  The Other Side of the Wind   \n",
       "3  tt0069204                  Sabse Bada Sukh             Sabse Bada Sukh   \n",
       "4  tt0100275         The Wandering Soap Opera       La Telenovela Errante   \n",
       "\n",
       "   start_year  runtime_minutes                genres  averagerating  numvotes  \n",
       "0        2013            175.0    Action,Crime,Drama            7.0      77.0  \n",
       "1        2019            114.0       Biography,Drama            7.2      43.0  \n",
       "2        2018            122.0                 Drama            6.9    4517.0  \n",
       "3        2018              NaN          Comedy,Drama            6.1      13.0  \n",
       "4        2017             80.0  Comedy,Drama,Fantasy            6.5     119.0  "
      ]
     },
     "execution_count": 5,
     "metadata": {},
     "output_type": "execute_result"
    }
   ],
   "source": [
    "imdb_movie_ratings.head()"
   ]
  },
  {
   "cell_type": "code",
   "execution_count": 6,
   "id": "8c8ad51f-b136-40db-8a56-5a88855c12e4",
   "metadata": {},
   "outputs": [
    {
     "data": {
      "text/plain": [
       "movie_id               0\n",
       "primary_title          0\n",
       "original_title        21\n",
       "start_year             0\n",
       "runtime_minutes    31739\n",
       "genres              5408\n",
       "averagerating      72288\n",
       "numvotes           72288\n",
       "dtype: int64"
      ]
     },
     "execution_count": 6,
     "metadata": {},
     "output_type": "execute_result"
    }
   ],
   "source": [
    "# Checking for the amount of null values\n",
    "\n",
    "imdb_movie_ratings.isna().sum()"
   ]
  },
  {
   "cell_type": "code",
   "execution_count": 7,
   "id": "8f90daa8-a49b-4ddd-b5f0-db78644d0c60",
   "metadata": {},
   "outputs": [
    {
     "data": {
      "text/plain": [
       "movie_id           0.000000\n",
       "primary_title      0.000000\n",
       "original_title     0.000144\n",
       "start_year         0.000000\n",
       "runtime_minutes    0.217176\n",
       "genres             0.037005\n",
       "averagerating      0.494635\n",
       "numvotes           0.494635\n",
       "dtype: float64"
      ]
     },
     "execution_count": 7,
     "metadata": {},
     "output_type": "execute_result"
    }
   ],
   "source": [
    "# Calculating the proportion of null values per row\n",
    "\n",
    "imdb_movie_ratings.isna().sum()/len(imdb_movie_ratings)"
   ]
  },
  {
   "cell_type": "markdown",
   "id": "7238e3e5-d202-45dc-8a83-e4f3cac298ce",
   "metadata": {},
   "source": [
    "**`averagerating` and `numvotes` have a relatively high proportion of null values**"
   ]
  },
  {
   "cell_type": "markdown",
   "id": "d5d40153-d8eb-4317-8d68-f235caf5efba",
   "metadata": {},
   "source": [
    "Let's take a look at the entries with null `averagerating` and `numvotes`"
   ]
  },
  {
   "cell_type": "code",
   "execution_count": 8,
   "id": "11e51b2d-2ff5-4018-ad89-0ef6aaf3a782",
   "metadata": {},
   "outputs": [
    {
     "data": {
      "text/html": [
       "<div>\n",
       "<style scoped>\n",
       "    .dataframe tbody tr th:only-of-type {\n",
       "        vertical-align: middle;\n",
       "    }\n",
       "\n",
       "    .dataframe tbody tr th {\n",
       "        vertical-align: top;\n",
       "    }\n",
       "\n",
       "    .dataframe thead th {\n",
       "        text-align: right;\n",
       "    }\n",
       "</style>\n",
       "<table border=\"1\" class=\"dataframe\">\n",
       "  <thead>\n",
       "    <tr style=\"text-align: right;\">\n",
       "      <th></th>\n",
       "      <th>movie_id</th>\n",
       "      <th>primary_title</th>\n",
       "      <th>original_title</th>\n",
       "      <th>start_year</th>\n",
       "      <th>runtime_minutes</th>\n",
       "      <th>genres</th>\n",
       "      <th>averagerating</th>\n",
       "      <th>numvotes</th>\n",
       "    </tr>\n",
       "  </thead>\n",
       "  <tbody>\n",
       "    <tr>\n",
       "      <th>5</th>\n",
       "      <td>tt0111414</td>\n",
       "      <td>A Thin Life</td>\n",
       "      <td>A Thin Life</td>\n",
       "      <td>2018</td>\n",
       "      <td>75.0</td>\n",
       "      <td>Comedy</td>\n",
       "      <td>NaN</td>\n",
       "      <td>NaN</td>\n",
       "    </tr>\n",
       "    <tr>\n",
       "      <th>8</th>\n",
       "      <td>tt0139613</td>\n",
       "      <td>O Silêncio</td>\n",
       "      <td>O Silêncio</td>\n",
       "      <td>2012</td>\n",
       "      <td>NaN</td>\n",
       "      <td>Documentary,History</td>\n",
       "      <td>NaN</td>\n",
       "      <td>NaN</td>\n",
       "    </tr>\n",
       "    <tr>\n",
       "      <th>9</th>\n",
       "      <td>tt0144449</td>\n",
       "      <td>Nema aviona za Zagreb</td>\n",
       "      <td>Nema aviona za Zagreb</td>\n",
       "      <td>2012</td>\n",
       "      <td>82.0</td>\n",
       "      <td>Biography</td>\n",
       "      <td>NaN</td>\n",
       "      <td>NaN</td>\n",
       "    </tr>\n",
       "    <tr>\n",
       "      <th>16</th>\n",
       "      <td>tt0187902</td>\n",
       "      <td>How Huang Fei-hong Rescued the Orphan from the...</td>\n",
       "      <td>How Huang Fei-hong Rescued the Orphan from the...</td>\n",
       "      <td>2011</td>\n",
       "      <td>NaN</td>\n",
       "      <td>None</td>\n",
       "      <td>NaN</td>\n",
       "      <td>NaN</td>\n",
       "    </tr>\n",
       "    <tr>\n",
       "      <th>25</th>\n",
       "      <td>tt0262759</td>\n",
       "      <td>Seven Jews from My Class</td>\n",
       "      <td>Siedmiu Zydów z mojej klasy</td>\n",
       "      <td>2018</td>\n",
       "      <td>40.0</td>\n",
       "      <td>Documentary</td>\n",
       "      <td>NaN</td>\n",
       "      <td>NaN</td>\n",
       "    </tr>\n",
       "  </tbody>\n",
       "</table>\n",
       "</div>"
      ],
      "text/plain": [
       "     movie_id                                      primary_title  \\\n",
       "5   tt0111414                                        A Thin Life   \n",
       "8   tt0139613                                         O Silêncio   \n",
       "9   tt0144449                              Nema aviona za Zagreb   \n",
       "16  tt0187902  How Huang Fei-hong Rescued the Orphan from the...   \n",
       "25  tt0262759                           Seven Jews from My Class   \n",
       "\n",
       "                                       original_title  start_year  \\\n",
       "5                                         A Thin Life        2018   \n",
       "8                                          O Silêncio        2012   \n",
       "9                               Nema aviona za Zagreb        2012   \n",
       "16  How Huang Fei-hong Rescued the Orphan from the...        2011   \n",
       "25                        Siedmiu Zydów z mojej klasy        2018   \n",
       "\n",
       "    runtime_minutes               genres  averagerating  numvotes  \n",
       "5              75.0               Comedy            NaN       NaN  \n",
       "8               NaN  Documentary,History            NaN       NaN  \n",
       "9              82.0            Biography            NaN       NaN  \n",
       "16              NaN                 None            NaN       NaN  \n",
       "25             40.0          Documentary            NaN       NaN  "
      ]
     },
     "execution_count": 8,
     "metadata": {},
     "output_type": "execute_result"
    }
   ],
   "source": [
    "null_imdb_movie_ratings = imdb_movie_ratings[\n",
    "    imdb_movie_ratings['numvotes'].isna()\n",
    "]\n",
    "\n",
    "null_imdb_movie_ratings.head()"
   ]
  },
  {
   "cell_type": "code",
   "execution_count": 9,
   "id": "b4a3bf90-94d8-48c7-a1cb-89f57bee3d08",
   "metadata": {},
   "outputs": [
    {
     "name": "stdout",
     "output_type": "stream",
     "text": [
      " There are 72288 movies with null Ratings and Votes\n",
      " out of 146144 total movies\n"
     ]
    }
   ],
   "source": [
    "print(f\" There are {len(null_imdb_movie_ratings['movie_id'])} movies with null Ratings and Votes\")\n",
    "print(f\" out of {len(imdb_movie_ratings['movie_id'])} total movies\")"
   ]
  },
  {
   "cell_type": "markdown",
   "id": "45a563f6-578e-4d59-94a4-2f54858a294d",
   "metadata": {},
   "source": [
    "#### We will remove the entries with no Ratings or Votes from the dataset"
   ]
  },
  {
   "cell_type": "markdown",
   "id": "5639e1fa-6c45-41a3-98f0-e09a17737862",
   "metadata": {},
   "source": [
    "This will still leave us with more than 70,000 movies to work with"
   ]
  },
  {
   "cell_type": "code",
   "execution_count": 10,
   "id": "73b1daff-ea0d-4c39-b466-70c185f7c012",
   "metadata": {},
   "outputs": [],
   "source": [
    "imdb_movie_ratings.dropna(subset=['numvotes'], inplace=True)"
   ]
  },
  {
   "cell_type": "code",
   "execution_count": 11,
   "id": "c79d3e62-36a4-4d02-9771-a8fb123bd027",
   "metadata": {},
   "outputs": [
    {
     "name": "stdout",
     "output_type": "stream",
     "text": [
      "Total null ratings: 0\n",
      "Total null votes: 0\n"
     ]
    }
   ],
   "source": [
    "# Confirming that this worked for both averagerating column and numvotes column\n",
    "\n",
    "print('Total null ratings:', imdb_movie_ratings['averagerating'].isna().sum())\n",
    "\n",
    "print('Total null votes:', imdb_movie_ratings['numvotes'].isna().sum())"
   ]
  },
  {
   "cell_type": "markdown",
   "id": "c07ab2ac-8d56-4372-873a-a28c355f440d",
   "metadata": {},
   "source": [
    "### 4.b. Dealing with duplicate entries"
   ]
  },
  {
   "cell_type": "markdown",
   "id": "4f01bcca-ad06-4554-986b-78e1aa976b88",
   "metadata": {},
   "source": [
    "First we'll check for the number of movies with the same name."
   ]
  },
  {
   "cell_type": "code",
   "execution_count": 12,
   "id": "9a375ef9-2cde-4066-a5aa-b25b474abbda",
   "metadata": {},
   "outputs": [
    {
     "name": "stdout",
     "output_type": "stream",
     "text": [
      " There are 3863 movies with the same title.\n"
     ]
    }
   ],
   "source": [
    "print(f\" There are {imdb_movie_ratings.duplicated(subset=['primary_title']).sum()} movies with the same title.\")"
   ]
  },
  {
   "cell_type": "markdown",
   "id": "5992dc5e-514f-4600-9bfa-c594027256c6",
   "metadata": {},
   "source": [
    "With close to 4,000 movies sharing a title, let's see which ones also share a runtime and year to confirm they are indeed the same movie."
   ]
  },
  {
   "cell_type": "code",
   "execution_count": 13,
   "id": "6e95d582-f9ab-426c-8420-5ee95072e3cc",
   "metadata": {},
   "outputs": [
    {
     "name": "stdout",
     "output_type": "stream",
     "text": [
      "There are 25  duplicates of the same movie.\n"
     ]
    }
   ],
   "source": [
    "print(\n",
    "    f\"There are {imdb_movie_ratings.duplicated(subset=['primary_title','runtime_minutes', 'start_year']).sum()} \"\n",
    "    f\" duplicates of the same movie.\")\n",
    "    "
   ]
  },
  {
   "cell_type": "markdown",
   "id": "086c25e8-eb6d-4da4-b6a8-c5788926ddbe",
   "metadata": {},
   "source": [
    "While 25 movie duplicates is not too many, let's drop them for clarity's sake. Let's keep the entry with the higher number of votes."
   ]
  },
  {
   "cell_type": "code",
   "execution_count": 14,
   "id": "09be39b0-bca2-4158-bb40-394e33a58cab",
   "metadata": {},
   "outputs": [],
   "source": [
    "# Ordering the dataset by the number of votes\n",
    "\n",
    "imdb_movie_ratings.sort_values(\n",
    "    by='numvotes',\n",
    "    ascending=False,\n",
    "    inplace=True)"
   ]
  },
  {
   "cell_type": "code",
   "execution_count": 15,
   "id": "2261496d-2ba5-42e8-8c30-fe1faa1db152",
   "metadata": {},
   "outputs": [],
   "source": [
    "# Dropping the duplicate movies with the lower count of votes\n",
    "\n",
    "imdb_movie_ratings.drop_duplicates(\n",
    "    subset=['primary_title', 'runtime_minutes', 'start_year'],\n",
    "    inplace=True,\n",
    "    keep='first')"
   ]
  },
  {
   "cell_type": "code",
   "execution_count": 16,
   "id": "1aaa4fc7-6781-4ffa-a0bf-f48f85a1f0b2",
   "metadata": {},
   "outputs": [
    {
     "data": {
      "text/plain": [
       "0"
      ]
     },
     "execution_count": 16,
     "metadata": {},
     "output_type": "execute_result"
    }
   ],
   "source": [
    "imdb_movie_ratings.duplicated(subset=['primary_title', 'runtime_minutes', 'start_year']).sum()"
   ]
  },
  {
   "cell_type": "markdown",
   "id": "fa4548e7-a305-4153-bc04-75f2a9a42c37",
   "metadata": {},
   "source": [
    "### 4.c. Dealing with the `genres` column"
   ]
  },
  {
   "cell_type": "markdown",
   "id": "771accea-4773-42bc-91dd-2ded6df2aeef",
   "metadata": {},
   "source": [
    "There are about 800 movies with null entries in the `genres` column, or just over 1%.\n"
   ]
  },
  {
   "cell_type": "code",
   "execution_count": 17,
   "id": "d8c8c96b-a506-4d0c-8e2b-c27f534d3e9f",
   "metadata": {},
   "outputs": [
    {
     "data": {
      "text/plain": [
       "movie_id           0.000000\n",
       "primary_title      0.000000\n",
       "original_title     0.000000\n",
       "start_year         0.000000\n",
       "runtime_minutes    0.103141\n",
       "genres             0.010890\n",
       "averagerating      0.000000\n",
       "numvotes           0.000000\n",
       "dtype: float64"
      ]
     },
     "execution_count": 17,
     "metadata": {},
     "output_type": "execute_result"
    }
   ],
   "source": [
    "imdb_movie_ratings.isna().sum()/len(imdb_movie_ratings)"
   ]
  },
  {
   "cell_type": "code",
   "execution_count": 18,
   "id": "cadbfa10-7161-4a7a-8bfa-a47c5d4245f7",
   "metadata": {},
   "outputs": [],
   "source": [
    "imdb_movie_ratings.dropna(subset=['genres'], inplace=True)"
   ]
  },
  {
   "cell_type": "code",
   "execution_count": 19,
   "id": "90b5970f-d4ee-42f8-a64c-1d35d8becfaf",
   "metadata": {},
   "outputs": [
    {
     "data": {
      "text/plain": [
       "0"
      ]
     },
     "execution_count": 19,
     "metadata": {},
     "output_type": "execute_result"
    }
   ],
   "source": [
    "imdb_movie_ratings['genres'].isna().sum()"
   ]
  },
  {
   "cell_type": "markdown",
   "id": "3aa11ee7-a49f-407b-9249-6ef41704a083",
   "metadata": {},
   "source": [
    "**Furthermore, many movies have the multiple entries in the `genres` column, which would make analyzing the genres difficult.**\n",
    "\n",
    "As it stands, there are more than 146,000 unique categories for genres due to errors in formatting and unique combinations."
   ]
  },
  {
   "cell_type": "code",
   "execution_count": 20,
   "id": "bb4ebf0d-5a58-4761-a8b9-c521a8c055bb",
   "metadata": {},
   "outputs": [
    {
     "data": {
      "text/plain": [
       "<bound method Series.unique of 7066      Action,Adventure,Sci-Fi\n",
       "6900              Action,Thriller\n",
       "311        Adventure,Drama,Sci-Fi\n",
       "20342               Drama,Western\n",
       "356       Action,Adventure,Sci-Fi\n",
       "                   ...           \n",
       "92160                       Drama\n",
       "111768                      Drama\n",
       "21592                 Documentary\n",
       "12580                    Thriller\n",
       "104100                Documentary\n",
       "Name: genres, Length: 73027, dtype: object>"
      ]
     },
     "execution_count": 20,
     "metadata": {},
     "output_type": "execute_result"
    }
   ],
   "source": [
    "imdb_movie_ratings['genres'].unique"
   ]
  },
  {
   "cell_type": "markdown",
   "id": "6f477cfc-4eb6-4a76-b456-27d373ac28f9",
   "metadata": {},
   "source": [
    "First, let's correct the formatting by splitting the entries by the commas. This will also convert the multiple genre entries into a list.\\\n",
    "I'll create a new dataframe for this in case `imdb_movie_ratings` is useful for further analysis later."
   ]
  },
  {
   "cell_type": "code",
   "execution_count": 21,
   "id": "6508a510-950e-48b5-b561-e605ad65e6ba",
   "metadata": {},
   "outputs": [],
   "source": [
    "# Creating a copy \n",
    "\n",
    "imdb_clean_genres = imdb_movie_ratings.copy()"
   ]
  },
  {
   "cell_type": "code",
   "execution_count": 22,
   "id": "deb2a70f-5180-420f-a5d2-40c154ee67a5",
   "metadata": {},
   "outputs": [],
   "source": [
    "# Using `str.split()` to separate the genre entries and convert them into a list\n",
    "\n",
    "imdb_clean_genres['genres'] = imdb_clean_genres['genres'].str.split(',')"
   ]
  },
  {
   "cell_type": "code",
   "execution_count": 23,
   "id": "c7331b15-992d-4464-bdbe-9a5fa9de2bd2",
   "metadata": {},
   "outputs": [
    {
     "data": {
      "text/html": [
       "<div>\n",
       "<style scoped>\n",
       "    .dataframe tbody tr th:only-of-type {\n",
       "        vertical-align: middle;\n",
       "    }\n",
       "\n",
       "    .dataframe tbody tr th {\n",
       "        vertical-align: top;\n",
       "    }\n",
       "\n",
       "    .dataframe thead th {\n",
       "        text-align: right;\n",
       "    }\n",
       "</style>\n",
       "<table border=\"1\" class=\"dataframe\">\n",
       "  <thead>\n",
       "    <tr style=\"text-align: right;\">\n",
       "      <th></th>\n",
       "      <th>movie_id</th>\n",
       "      <th>primary_title</th>\n",
       "      <th>original_title</th>\n",
       "      <th>start_year</th>\n",
       "      <th>runtime_minutes</th>\n",
       "      <th>genres</th>\n",
       "      <th>averagerating</th>\n",
       "      <th>numvotes</th>\n",
       "    </tr>\n",
       "  </thead>\n",
       "  <tbody>\n",
       "    <tr>\n",
       "      <th>7066</th>\n",
       "      <td>tt1375666</td>\n",
       "      <td>Inception</td>\n",
       "      <td>Inception</td>\n",
       "      <td>2010</td>\n",
       "      <td>148.0</td>\n",
       "      <td>[Action, Adventure, Sci-Fi]</td>\n",
       "      <td>8.8</td>\n",
       "      <td>1841066.0</td>\n",
       "    </tr>\n",
       "    <tr>\n",
       "      <th>6900</th>\n",
       "      <td>tt1345836</td>\n",
       "      <td>The Dark Knight Rises</td>\n",
       "      <td>The Dark Knight Rises</td>\n",
       "      <td>2012</td>\n",
       "      <td>164.0</td>\n",
       "      <td>[Action, Thriller]</td>\n",
       "      <td>8.4</td>\n",
       "      <td>1387769.0</td>\n",
       "    </tr>\n",
       "    <tr>\n",
       "      <th>311</th>\n",
       "      <td>tt0816692</td>\n",
       "      <td>Interstellar</td>\n",
       "      <td>Interstellar</td>\n",
       "      <td>2014</td>\n",
       "      <td>169.0</td>\n",
       "      <td>[Adventure, Drama, Sci-Fi]</td>\n",
       "      <td>8.6</td>\n",
       "      <td>1299334.0</td>\n",
       "    </tr>\n",
       "    <tr>\n",
       "      <th>20342</th>\n",
       "      <td>tt1853728</td>\n",
       "      <td>Django Unchained</td>\n",
       "      <td>Django Unchained</td>\n",
       "      <td>2012</td>\n",
       "      <td>165.0</td>\n",
       "      <td>[Drama, Western]</td>\n",
       "      <td>8.4</td>\n",
       "      <td>1211405.0</td>\n",
       "    </tr>\n",
       "    <tr>\n",
       "      <th>356</th>\n",
       "      <td>tt0848228</td>\n",
       "      <td>The Avengers</td>\n",
       "      <td>The Avengers</td>\n",
       "      <td>2012</td>\n",
       "      <td>143.0</td>\n",
       "      <td>[Action, Adventure, Sci-Fi]</td>\n",
       "      <td>8.1</td>\n",
       "      <td>1183655.0</td>\n",
       "    </tr>\n",
       "  </tbody>\n",
       "</table>\n",
       "</div>"
      ],
      "text/plain": [
       "        movie_id          primary_title         original_title  start_year  \\\n",
       "7066   tt1375666              Inception              Inception        2010   \n",
       "6900   tt1345836  The Dark Knight Rises  The Dark Knight Rises        2012   \n",
       "311    tt0816692           Interstellar           Interstellar        2014   \n",
       "20342  tt1853728       Django Unchained       Django Unchained        2012   \n",
       "356    tt0848228           The Avengers           The Avengers        2012   \n",
       "\n",
       "       runtime_minutes                       genres  averagerating   numvotes  \n",
       "7066             148.0  [Action, Adventure, Sci-Fi]            8.8  1841066.0  \n",
       "6900             164.0           [Action, Thriller]            8.4  1387769.0  \n",
       "311              169.0   [Adventure, Drama, Sci-Fi]            8.6  1299334.0  \n",
       "20342            165.0             [Drama, Western]            8.4  1211405.0  \n",
       "356              143.0  [Action, Adventure, Sci-Fi]            8.1  1183655.0  "
      ]
     },
     "execution_count": 23,
     "metadata": {},
     "output_type": "execute_result"
    }
   ],
   "source": [
    "imdb_clean_genres.head()"
   ]
  },
  {
   "cell_type": "markdown",
   "id": "324a4f5f-62d6-4076-8238-e01b89ff45a3",
   "metadata": {},
   "source": [
    "Let's get a count of all the unique individual genres listed across the dataset, using a for-loop."
   ]
  },
  {
   "cell_type": "code",
   "execution_count": 24,
   "id": "704eab67-b3c7-445e-ad8a-5cfa0729cfae",
   "metadata": {},
   "outputs": [],
   "source": [
    "genres = set()\n",
    "genres_col = imdb_clean_genres['genres']\n",
    "\n",
    "for entries in genres_col:\n",
    "    for genre in entries:\n",
    "        genres.add(genre)"
   ]
  },
  {
   "cell_type": "code",
   "execution_count": 25,
   "id": "39e60a02-1c26-41ed-b394-994ea1e53769",
   "metadata": {},
   "outputs": [
    {
     "name": "stdout",
     "output_type": "stream",
     "text": [
      " There are 26 unique genres in our data set.\n",
      "\n",
      " These genres are: \n",
      "{'Fantasy', 'Music', 'Thriller', 'Reality-TV', 'Adult', 'Sport', 'Western', 'Sci-Fi', 'News', 'Biography', 'Documentary', 'Horror', 'Musical', 'Game-Show', 'Family', 'History', 'War', 'Adventure', 'Drama', 'Crime', 'Romance', 'Mystery', 'Action', 'Animation', 'Comedy', 'Short'}\n"
     ]
    }
   ],
   "source": [
    "print(\n",
    "    f\" There are {len(genres)} unique genres in our data set.\\n\\n\" \n",
    "    f\" These genres are: \\n\"\n",
    "    f\"{genres}\")"
   ]
  },
  {
   "cell_type": "markdown",
   "id": "609db022-7672-46b5-bac7-fc528bb1c860",
   "metadata": {},
   "source": [
    "#### Creating a new dataset with separated entries under `genres`"
   ]
  },
  {
   "cell_type": "markdown",
   "id": "f7ba39f2-4fd8-457d-ac3e-d4511f1c369c",
   "metadata": {},
   "source": [
    "I will do this using `.explode()` which will separate each genre into a new row."
   ]
  },
  {
   "cell_type": "code",
   "execution_count": 26,
   "id": "c8c386f5-40d1-452f-a476-b2f0a7dae91b",
   "metadata": {},
   "outputs": [],
   "source": [
    "imdb_expl_genres = imdb_clean_genres.explode('genres')"
   ]
  },
  {
   "cell_type": "code",
   "execution_count": 27,
   "id": "2d3d5222-e7d1-4d41-81dc-89fdeda59423",
   "metadata": {},
   "outputs": [
    {
     "data": {
      "text/html": [
       "<div>\n",
       "<style scoped>\n",
       "    .dataframe tbody tr th:only-of-type {\n",
       "        vertical-align: middle;\n",
       "    }\n",
       "\n",
       "    .dataframe tbody tr th {\n",
       "        vertical-align: top;\n",
       "    }\n",
       "\n",
       "    .dataframe thead th {\n",
       "        text-align: right;\n",
       "    }\n",
       "</style>\n",
       "<table border=\"1\" class=\"dataframe\">\n",
       "  <thead>\n",
       "    <tr style=\"text-align: right;\">\n",
       "      <th></th>\n",
       "      <th>movie_id</th>\n",
       "      <th>primary_title</th>\n",
       "      <th>original_title</th>\n",
       "      <th>start_year</th>\n",
       "      <th>runtime_minutes</th>\n",
       "      <th>genres</th>\n",
       "      <th>averagerating</th>\n",
       "      <th>numvotes</th>\n",
       "    </tr>\n",
       "  </thead>\n",
       "  <tbody>\n",
       "    <tr>\n",
       "      <th>7066</th>\n",
       "      <td>tt1375666</td>\n",
       "      <td>Inception</td>\n",
       "      <td>Inception</td>\n",
       "      <td>2010</td>\n",
       "      <td>148.0</td>\n",
       "      <td>Action</td>\n",
       "      <td>8.8</td>\n",
       "      <td>1841066.0</td>\n",
       "    </tr>\n",
       "    <tr>\n",
       "      <th>7066</th>\n",
       "      <td>tt1375666</td>\n",
       "      <td>Inception</td>\n",
       "      <td>Inception</td>\n",
       "      <td>2010</td>\n",
       "      <td>148.0</td>\n",
       "      <td>Adventure</td>\n",
       "      <td>8.8</td>\n",
       "      <td>1841066.0</td>\n",
       "    </tr>\n",
       "    <tr>\n",
       "      <th>7066</th>\n",
       "      <td>tt1375666</td>\n",
       "      <td>Inception</td>\n",
       "      <td>Inception</td>\n",
       "      <td>2010</td>\n",
       "      <td>148.0</td>\n",
       "      <td>Sci-Fi</td>\n",
       "      <td>8.8</td>\n",
       "      <td>1841066.0</td>\n",
       "    </tr>\n",
       "    <tr>\n",
       "      <th>6900</th>\n",
       "      <td>tt1345836</td>\n",
       "      <td>The Dark Knight Rises</td>\n",
       "      <td>The Dark Knight Rises</td>\n",
       "      <td>2012</td>\n",
       "      <td>164.0</td>\n",
       "      <td>Action</td>\n",
       "      <td>8.4</td>\n",
       "      <td>1387769.0</td>\n",
       "    </tr>\n",
       "    <tr>\n",
       "      <th>6900</th>\n",
       "      <td>tt1345836</td>\n",
       "      <td>The Dark Knight Rises</td>\n",
       "      <td>The Dark Knight Rises</td>\n",
       "      <td>2012</td>\n",
       "      <td>164.0</td>\n",
       "      <td>Thriller</td>\n",
       "      <td>8.4</td>\n",
       "      <td>1387769.0</td>\n",
       "    </tr>\n",
       "  </tbody>\n",
       "</table>\n",
       "</div>"
      ],
      "text/plain": [
       "       movie_id          primary_title         original_title  start_year  \\\n",
       "7066  tt1375666              Inception              Inception        2010   \n",
       "7066  tt1375666              Inception              Inception        2010   \n",
       "7066  tt1375666              Inception              Inception        2010   \n",
       "6900  tt1345836  The Dark Knight Rises  The Dark Knight Rises        2012   \n",
       "6900  tt1345836  The Dark Knight Rises  The Dark Knight Rises        2012   \n",
       "\n",
       "      runtime_minutes     genres  averagerating   numvotes  \n",
       "7066            148.0     Action            8.8  1841066.0  \n",
       "7066            148.0  Adventure            8.8  1841066.0  \n",
       "7066            148.0     Sci-Fi            8.8  1841066.0  \n",
       "6900            164.0     Action            8.4  1387769.0  \n",
       "6900            164.0   Thriller            8.4  1387769.0  "
      ]
     },
     "execution_count": 27,
     "metadata": {},
     "output_type": "execute_result"
    }
   ],
   "source": [
    "imdb_expl_genres.head()"
   ]
  },
  {
   "cell_type": "code",
   "execution_count": 28,
   "id": "a95cf5d9-a5a1-4449-98ec-dde9c00b500c",
   "metadata": {},
   "outputs": [
    {
     "data": {
      "text/plain": [
       "genres\n",
       "Drama          30782\n",
       "Documentary    17747\n",
       "Comedy         17286\n",
       "Thriller        8212\n",
       "Horror          7672\n",
       "Action          6986\n",
       "Romance         6584\n",
       "Crime           4610\n",
       "Adventure       3816\n",
       "Biography       3806\n",
       "Family          3411\n",
       "Mystery         3038\n",
       "History         2825\n",
       "Sci-Fi          2206\n",
       "Fantasy         2126\n",
       "Music           1967\n",
       "Animation       1742\n",
       "Sport           1179\n",
       "War              853\n",
       "Musical          721\n",
       "News             579\n",
       "Western          280\n",
       "Reality-TV        17\n",
       "Adult              3\n",
       "Game-Show          2\n",
       "Short              1\n",
       "Name: count, dtype: int64"
      ]
     },
     "execution_count": 28,
     "metadata": {},
     "output_type": "execute_result"
    }
   ],
   "source": [
    "imdb_expl_genres['genres'].value_counts()"
   ]
  },
  {
   "cell_type": "markdown",
   "id": "2152761f-8c7a-4d6f-a005-e89d56b89cbc",
   "metadata": {},
   "source": [
    "#### Removing outliers and potential noise"
   ]
  },
  {
   "cell_type": "markdown",
   "id": "82732a76-1185-4be7-bbec-0d2a1a797671",
   "metadata": {},
   "source": [
    "As we can see above, the bottom four genres of `Reality-TV`, `Adult`, `Game-Show`, and `Short` all have much lower counts, which could potentially pollute any visualizations or analysis of the relation between the genre with other metrics."
   ]
  },
  {
   "cell_type": "code",
   "execution_count": 29,
   "id": "db2ca7cb-88fd-4191-a9ce-b146dffc47ab",
   "metadata": {},
   "outputs": [
    {
     "data": {
      "text/plain": [
       "23"
      ]
     },
     "execution_count": 29,
     "metadata": {},
     "output_type": "execute_result"
    }
   ],
   "source": [
    "# First, let's collect the `movie_id` for all the movies falling under these noisy genres\n",
    "noisy_genre_titles = (\n",
    "    imdb_expl_genres[imdb_expl_genres['genres'].isin([\n",
    "        'Reality-TV', 'Adult', 'Game-Show', 'Short'])]['movie_id'])\n",
    "\n",
    "# Checking that it worked\n",
    "\n",
    "len(noisy_genre_titles)"
   ]
  },
  {
   "cell_type": "markdown",
   "id": "284a2d1a-2799-4714-88fe-261e3a6f680a",
   "metadata": {},
   "source": [
    "Now, let's use a for-loop to remove these titles from all of the datasets we've created so far so we don't have to repeat this process\n"
   ]
  },
  {
   "cell_type": "code",
   "execution_count": 30,
   "id": "fe8177a8-a351-4810-b253-382192f3925a",
   "metadata": {},
   "outputs": [],
   "source": [
    "for df in [imdb_expl_genres, imdb_movie_ratings, imdb_clean_genres]:\n",
    "    df.drop(df[df['movie_id'].isin(noisy_genre_titles)].index, inplace=True)"
   ]
  },
  {
   "cell_type": "code",
   "execution_count": 31,
   "id": "9744e686-1a8e-4e2d-8806-f24f74b622f2",
   "metadata": {},
   "outputs": [
    {
     "data": {
      "text/plain": [
       "genres\n",
       "Drama          30777\n",
       "Documentary    17737\n",
       "Comedy         17282\n",
       "Thriller        8211\n",
       "Horror          7671\n",
       "Action          6984\n",
       "Romance         6584\n",
       "Crime           4610\n",
       "Adventure       3814\n",
       "Biography       3805\n",
       "Family          3411\n",
       "Mystery         3038\n",
       "History         2824\n",
       "Sci-Fi          2206\n",
       "Fantasy         2126\n",
       "Music           1966\n",
       "Animation       1742\n",
       "Sport           1179\n",
       "War              853\n",
       "Musical          721\n",
       "News             578\n",
       "Western          280\n",
       "Name: count, dtype: int64"
      ]
     },
     "execution_count": 31,
     "metadata": {},
     "output_type": "execute_result"
    }
   ],
   "source": [
    "# Checking to see if it worked\n",
    "\n",
    "imdb_expl_genres['genres'].value_counts()"
   ]
  },
  {
   "cell_type": "markdown",
   "id": "e43b740a-a927-4855-8c35-41c51490fbc5",
   "metadata": {},
   "source": [
    "### 4.d. Factoring in Domestic and Foreign Gross"
   ]
  },
  {
   "cell_type": "markdown",
   "id": "d7ef2251-8726-4baf-b2ff-42806babb435",
   "metadata": {},
   "source": [
    "Now that we have cleaned up the dataset from IMDB according to `averagerating`, `numvotes`, and `genres`, let's see if we can pull in data regarding the how well movies grossed domestically and internationally.\n",
    "\n",
    "We will pull a dataset from `Box Office Mojo`, which ia affiliated with IMDB and tracks domestic and foreign gross for movies.\n",
    "\n",
    "It's important to note that the data is inconsistent with the movies contained in the IMDB datasets we've looked at so far: not all movies in these datasets have information on gross performance. Regardless, we may be able to gain insights by looking at which films performed well at the box office."
   ]
  },
  {
   "cell_type": "code",
   "execution_count": 32,
   "id": "db89e412-cc2e-47f9-bbbf-42d56d7c27f2",
   "metadata": {},
   "outputs": [
    {
     "data": {
      "text/html": [
       "<div>\n",
       "<style scoped>\n",
       "    .dataframe tbody tr th:only-of-type {\n",
       "        vertical-align: middle;\n",
       "    }\n",
       "\n",
       "    .dataframe tbody tr th {\n",
       "        vertical-align: top;\n",
       "    }\n",
       "\n",
       "    .dataframe thead th {\n",
       "        text-align: right;\n",
       "    }\n",
       "</style>\n",
       "<table border=\"1\" class=\"dataframe\">\n",
       "  <thead>\n",
       "    <tr style=\"text-align: right;\">\n",
       "      <th></th>\n",
       "      <th>title</th>\n",
       "      <th>studio</th>\n",
       "      <th>domestic_gross</th>\n",
       "      <th>foreign_gross</th>\n",
       "      <th>year</th>\n",
       "    </tr>\n",
       "  </thead>\n",
       "  <tbody>\n",
       "    <tr>\n",
       "      <th>0</th>\n",
       "      <td>Toy Story 3</td>\n",
       "      <td>BV</td>\n",
       "      <td>415000000.0</td>\n",
       "      <td>652000000</td>\n",
       "      <td>2010</td>\n",
       "    </tr>\n",
       "    <tr>\n",
       "      <th>1</th>\n",
       "      <td>Alice in Wonderland (2010)</td>\n",
       "      <td>BV</td>\n",
       "      <td>334200000.0</td>\n",
       "      <td>691300000</td>\n",
       "      <td>2010</td>\n",
       "    </tr>\n",
       "    <tr>\n",
       "      <th>2</th>\n",
       "      <td>Harry Potter and the Deathly Hallows Part 1</td>\n",
       "      <td>WB</td>\n",
       "      <td>296000000.0</td>\n",
       "      <td>664300000</td>\n",
       "      <td>2010</td>\n",
       "    </tr>\n",
       "    <tr>\n",
       "      <th>3</th>\n",
       "      <td>Inception</td>\n",
       "      <td>WB</td>\n",
       "      <td>292600000.0</td>\n",
       "      <td>535700000</td>\n",
       "      <td>2010</td>\n",
       "    </tr>\n",
       "    <tr>\n",
       "      <th>4</th>\n",
       "      <td>Shrek Forever After</td>\n",
       "      <td>P/DW</td>\n",
       "      <td>238700000.0</td>\n",
       "      <td>513900000</td>\n",
       "      <td>2010</td>\n",
       "    </tr>\n",
       "  </tbody>\n",
       "</table>\n",
       "</div>"
      ],
      "text/plain": [
       "                                         title studio  domestic_gross  \\\n",
       "0                                  Toy Story 3     BV     415000000.0   \n",
       "1                   Alice in Wonderland (2010)     BV     334200000.0   \n",
       "2  Harry Potter and the Deathly Hallows Part 1     WB     296000000.0   \n",
       "3                                    Inception     WB     292600000.0   \n",
       "4                          Shrek Forever After   P/DW     238700000.0   \n",
       "\n",
       "  foreign_gross  year  \n",
       "0     652000000  2010  \n",
       "1     691300000  2010  \n",
       "2     664300000  2010  \n",
       "3     535700000  2010  \n",
       "4     513900000  2010  "
      ]
     },
     "execution_count": 32,
     "metadata": {},
     "output_type": "execute_result"
    }
   ],
   "source": [
    "# Loading in the box office dataset\n",
    "\n",
    "box_office_df = pd.read_csv('bom.movie_gross.csv.gz')\n",
    "box_office_df.head()"
   ]
  },
  {
   "cell_type": "code",
   "execution_count": 33,
   "id": "07096e26-95a1-45a1-9088-a8ef80300b77",
   "metadata": {},
   "outputs": [
    {
     "name": "stdout",
     "output_type": "stream",
     "text": [
      "<class 'pandas.core.frame.DataFrame'>\n",
      "RangeIndex: 3387 entries, 0 to 3386\n",
      "Data columns (total 5 columns):\n",
      " #   Column          Non-Null Count  Dtype  \n",
      "---  ------          --------------  -----  \n",
      " 0   title           3387 non-null   object \n",
      " 1   studio          3382 non-null   object \n",
      " 2   domestic_gross  3359 non-null   float64\n",
      " 3   foreign_gross   2037 non-null   object \n",
      " 4   year            3387 non-null   int64  \n",
      "dtypes: float64(1), int64(1), object(3)\n",
      "memory usage: 132.4+ KB\n"
     ]
    }
   ],
   "source": [
    "box_office_df.info()"
   ]
  },
  {
   "cell_type": "markdown",
   "id": "87fb5948-05fb-4138-9a13-b0b31e1ef6e4",
   "metadata": {},
   "source": [
    "So we have about 3,400 movies listed in this dataset, which is far less than the 70,000+ movies we've been working with in the above datasets.\n",
    "\n",
    "We also have two separate columns for `domestic_gross` and `foreign_gross` with many movies having null entries."
   ]
  },
  {
   "cell_type": "code",
   "execution_count": 34,
   "id": "8df3d75c-cf70-44be-8b10-7677052b8bf4",
   "metadata": {},
   "outputs": [
    {
     "data": {
      "text/plain": [
       "title                0\n",
       "studio               5\n",
       "domestic_gross      28\n",
       "foreign_gross     1350\n",
       "year                 0\n",
       "dtype: int64"
      ]
     },
     "execution_count": 34,
     "metadata": {},
     "output_type": "execute_result"
    }
   ],
   "source": [
    "box_office_df.isna().sum()"
   ]
  },
  {
   "cell_type": "markdown",
   "id": "d2becd8c-889d-4d50-9389-a89e8c4f519e",
   "metadata": {},
   "source": [
    "This is understandable for `foreign_gross` as it may be more difficult to ascertain the gross in foreign markets than the domestic one. However, as domestic gross is a primary factor to consider we will need to remove entries with null entries under `domestic_gross`."
   ]
  },
  {
   "cell_type": "code",
   "execution_count": 35,
   "id": "065bbaac-2651-40e2-adb0-1d8a7698f4ff",
   "metadata": {},
   "outputs": [
    {
     "data": {
      "text/plain": [
       "0"
      ]
     },
     "execution_count": 35,
     "metadata": {},
     "output_type": "execute_result"
    }
   ],
   "source": [
    "box_office_clean = box_office_df.dropna(subset=['domestic_gross'])\n",
    "box_office_clean['domestic_gross'].isna().sum()"
   ]
  },
  {
   "cell_type": "markdown",
   "id": "0ff21f0e-ccc2-45c8-bd99-27531974afa2",
   "metadata": {},
   "source": [
    "Seeing how there are so many null values under `foreign_gross`, we will replace those values with 0 and turn the data from both this column and `domestic_gross` into integers."
   ]
  },
  {
   "cell_type": "code",
   "execution_count": 36,
   "id": "927213b5-ca4d-4ae3-914e-43ccc157c7fc",
   "metadata": {},
   "outputs": [],
   "source": [
    "box_office_clean.loc[:, 'foreign_gross'] = box_office_clean['foreign_gross'].fillna(0)\n",
    "\n",
    "# filtering out unnecessary warnings from Jupyter Notebook\n",
    "warnings.simplefilter(action='ignore', category=FutureWarning)\n",
    "warnings.simplefilter(action='ignore', category=Warning)"
   ]
  },
  {
   "cell_type": "code",
   "execution_count": 37,
   "id": "72a6cb5c-b73f-4b62-b136-bc282eaefef9",
   "metadata": {},
   "outputs": [
    {
     "data": {
      "text/plain": [
       "0"
      ]
     },
     "execution_count": 37,
     "metadata": {},
     "output_type": "execute_result"
    }
   ],
   "source": [
    "box_office_clean['foreign_gross'].isna().sum()"
   ]
  },
  {
   "cell_type": "code",
   "execution_count": 38,
   "id": "de66b771-5838-4b20-a3c6-47b4bcfbfd11",
   "metadata": {},
   "outputs": [],
   "source": [
    "box_office_clean[['domestic_gross', 'foreign_gross']] = (\n",
    "    box_office_clean[['domestic_gross', 'foreign_gross']]\n",
    "    .replace({\",\": \"\"}, regex=True)\n",
    "    .apply(pd.to_numeric, errors='coerce')\n",
    "    .astype(int))"
   ]
  },
  {
   "cell_type": "code",
   "execution_count": 39,
   "id": "7b4b9a29-d395-4280-8087-22a97da9d690",
   "metadata": {},
   "outputs": [
    {
     "data": {
      "text/plain": [
       "title             object\n",
       "studio            object\n",
       "domestic_gross     int64\n",
       "foreign_gross      int64\n",
       "year               int64\n",
       "dtype: object"
      ]
     },
     "execution_count": 39,
     "metadata": {},
     "output_type": "execute_result"
    }
   ],
   "source": [
    "box_office_clean.dtypes"
   ]
  },
  {
   "cell_type": "markdown",
   "id": "608ec2d1-27d5-4f36-aaa9-f758f3982e79",
   "metadata": {},
   "source": [
    "Now that we have cleaned the dataset to remove null values for domestic gross and replace null values in foreign gross with 0, we will create a new column `total_gross` representing the sum of both domestic and foreign gross."
   ]
  },
  {
   "cell_type": "code",
   "execution_count": 40,
   "id": "69ca2f23-a5a8-446f-8fd5-3fda30b4fc72",
   "metadata": {},
   "outputs": [],
   "source": [
    "box_office_clean['total_gross'] = box_office_clean['domestic_gross'] + box_office_clean['foreign_gross']"
   ]
  },
  {
   "cell_type": "code",
   "execution_count": 41,
   "id": "130f6c9e-7d14-4636-8f98-e24fe25e1f3e",
   "metadata": {},
   "outputs": [],
   "source": [
    "# Reordering the columns for easier reading\n",
    "box_office_clean = box_office_clean[[\n",
    "    'title', 'studio', 'year', 'domestic_gross', 'foreign_gross', 'total_gross']]"
   ]
  },
  {
   "cell_type": "code",
   "execution_count": 42,
   "id": "2a0ee345-1bdd-423e-a2dc-6a90ec954257",
   "metadata": {},
   "outputs": [
    {
     "data": {
      "text/html": [
       "<div>\n",
       "<style scoped>\n",
       "    .dataframe tbody tr th:only-of-type {\n",
       "        vertical-align: middle;\n",
       "    }\n",
       "\n",
       "    .dataframe tbody tr th {\n",
       "        vertical-align: top;\n",
       "    }\n",
       "\n",
       "    .dataframe thead th {\n",
       "        text-align: right;\n",
       "    }\n",
       "</style>\n",
       "<table border=\"1\" class=\"dataframe\">\n",
       "  <thead>\n",
       "    <tr style=\"text-align: right;\">\n",
       "      <th></th>\n",
       "      <th>title</th>\n",
       "      <th>studio</th>\n",
       "      <th>year</th>\n",
       "      <th>domestic_gross</th>\n",
       "      <th>foreign_gross</th>\n",
       "      <th>total_gross</th>\n",
       "    </tr>\n",
       "  </thead>\n",
       "  <tbody>\n",
       "    <tr>\n",
       "      <th>0</th>\n",
       "      <td>Toy Story 3</td>\n",
       "      <td>BV</td>\n",
       "      <td>2010</td>\n",
       "      <td>415000000</td>\n",
       "      <td>652000000</td>\n",
       "      <td>1067000000</td>\n",
       "    </tr>\n",
       "    <tr>\n",
       "      <th>1</th>\n",
       "      <td>Alice in Wonderland (2010)</td>\n",
       "      <td>BV</td>\n",
       "      <td>2010</td>\n",
       "      <td>334200000</td>\n",
       "      <td>691300000</td>\n",
       "      <td>1025500000</td>\n",
       "    </tr>\n",
       "    <tr>\n",
       "      <th>2</th>\n",
       "      <td>Harry Potter and the Deathly Hallows Part 1</td>\n",
       "      <td>WB</td>\n",
       "      <td>2010</td>\n",
       "      <td>296000000</td>\n",
       "      <td>664300000</td>\n",
       "      <td>960300000</td>\n",
       "    </tr>\n",
       "    <tr>\n",
       "      <th>3</th>\n",
       "      <td>Inception</td>\n",
       "      <td>WB</td>\n",
       "      <td>2010</td>\n",
       "      <td>292600000</td>\n",
       "      <td>535700000</td>\n",
       "      <td>828300000</td>\n",
       "    </tr>\n",
       "    <tr>\n",
       "      <th>4</th>\n",
       "      <td>Shrek Forever After</td>\n",
       "      <td>P/DW</td>\n",
       "      <td>2010</td>\n",
       "      <td>238700000</td>\n",
       "      <td>513900000</td>\n",
       "      <td>752600000</td>\n",
       "    </tr>\n",
       "    <tr>\n",
       "      <th>...</th>\n",
       "      <td>...</td>\n",
       "      <td>...</td>\n",
       "      <td>...</td>\n",
       "      <td>...</td>\n",
       "      <td>...</td>\n",
       "      <td>...</td>\n",
       "    </tr>\n",
       "    <tr>\n",
       "      <th>3382</th>\n",
       "      <td>The Quake</td>\n",
       "      <td>Magn.</td>\n",
       "      <td>2018</td>\n",
       "      <td>6200</td>\n",
       "      <td>0</td>\n",
       "      <td>6200</td>\n",
       "    </tr>\n",
       "    <tr>\n",
       "      <th>3383</th>\n",
       "      <td>Edward II (2018 re-release)</td>\n",
       "      <td>FM</td>\n",
       "      <td>2018</td>\n",
       "      <td>4800</td>\n",
       "      <td>0</td>\n",
       "      <td>4800</td>\n",
       "    </tr>\n",
       "    <tr>\n",
       "      <th>3384</th>\n",
       "      <td>El Pacto</td>\n",
       "      <td>Sony</td>\n",
       "      <td>2018</td>\n",
       "      <td>2500</td>\n",
       "      <td>0</td>\n",
       "      <td>2500</td>\n",
       "    </tr>\n",
       "    <tr>\n",
       "      <th>3385</th>\n",
       "      <td>The Swan</td>\n",
       "      <td>Synergetic</td>\n",
       "      <td>2018</td>\n",
       "      <td>2400</td>\n",
       "      <td>0</td>\n",
       "      <td>2400</td>\n",
       "    </tr>\n",
       "    <tr>\n",
       "      <th>3386</th>\n",
       "      <td>An Actor Prepares</td>\n",
       "      <td>Grav.</td>\n",
       "      <td>2018</td>\n",
       "      <td>1700</td>\n",
       "      <td>0</td>\n",
       "      <td>1700</td>\n",
       "    </tr>\n",
       "  </tbody>\n",
       "</table>\n",
       "<p>3359 rows × 6 columns</p>\n",
       "</div>"
      ],
      "text/plain": [
       "                                            title      studio  year  \\\n",
       "0                                     Toy Story 3          BV  2010   \n",
       "1                      Alice in Wonderland (2010)          BV  2010   \n",
       "2     Harry Potter and the Deathly Hallows Part 1          WB  2010   \n",
       "3                                       Inception          WB  2010   \n",
       "4                             Shrek Forever After        P/DW  2010   \n",
       "...                                           ...         ...   ...   \n",
       "3382                                    The Quake       Magn.  2018   \n",
       "3383                  Edward II (2018 re-release)          FM  2018   \n",
       "3384                                     El Pacto        Sony  2018   \n",
       "3385                                     The Swan  Synergetic  2018   \n",
       "3386                            An Actor Prepares       Grav.  2018   \n",
       "\n",
       "      domestic_gross  foreign_gross  total_gross  \n",
       "0          415000000      652000000   1067000000  \n",
       "1          334200000      691300000   1025500000  \n",
       "2          296000000      664300000    960300000  \n",
       "3          292600000      535700000    828300000  \n",
       "4          238700000      513900000    752600000  \n",
       "...              ...            ...          ...  \n",
       "3382            6200              0         6200  \n",
       "3383            4800              0         4800  \n",
       "3384            2500              0         2500  \n",
       "3385            2400              0         2400  \n",
       "3386            1700              0         1700  \n",
       "\n",
       "[3359 rows x 6 columns]"
      ]
     },
     "execution_count": 42,
     "metadata": {},
     "output_type": "execute_result"
    }
   ],
   "source": [
    "box_office_clean"
   ]
  },
  {
   "cell_type": "markdown",
   "id": "fba0a08e-1a13-4573-94b8-e32d04e5aec8",
   "metadata": {},
   "source": [
    "### 4.f. Creating new dataframe with both Ratings and Gross factors"
   ]
  },
  {
   "cell_type": "markdown",
   "id": "f05b72ce-7fab-40e2-94b6-052fbf536bd3",
   "metadata": {},
   "source": [
    "To look into the relationship between how well a movie does at the box office and how well the movie is received, we will create a new dataset that pulls together data for the following cetagories:\n",
    "\n",
    "1. `domestic_gross`\n",
    "2. `foreign_gross`\n",
    "3. `total_gross`\n",
    "4. `averagerating`\n",
    "5. `numvotes`\n",
    "6. `genres`\n",
    "\n",
    "Since there are far fewer entries listed for the Gross factors, this dataset will be more limited since we can only include movies that are present in both the **imdb_expl_genres** dataset as well as the **box_office_clean** dataset."
   ]
  },
  {
   "cell_type": "markdown",
   "id": "c0dbcf0e-aff0-45de-ab54-2516e4ba3956",
   "metadata": {},
   "source": [
    "First, we need to change the `primary_title` column in the **imdb_expl_genres** dataset to match with the **box_office_clean** dataset."
   ]
  },
  {
   "cell_type": "code",
   "execution_count": 43,
   "id": "fdf866e8-96fe-48e1-a365-6831aa2b11e1",
   "metadata": {},
   "outputs": [],
   "source": [
    "# renaming `primary_title` column\n",
    "imdb_expl_genres = imdb_expl_genres.rename(columns={'primary_title': 'title'})"
   ]
  },
  {
   "cell_type": "code",
   "execution_count": 44,
   "id": "06b041bb-3ab3-45bc-972d-bce14f027757",
   "metadata": {},
   "outputs": [],
   "source": [
    "movies_ratings_gross = pd.merge(\n",
    "    imdb_expl_genres[['movie_id', 'title', 'runtime_minutes', 'genres', 'averagerating', 'numvotes']],\n",
    "    box_office_clean[['title', 'domestic_gross', 'foreign_gross', 'total_gross']],\n",
    "    on='title')\n",
    "    "
   ]
  },
  {
   "cell_type": "code",
   "execution_count": 45,
   "id": "bf9068db-c4e8-4b29-b9ce-e18f35fda00f",
   "metadata": {},
   "outputs": [
    {
     "data": {
      "text/html": [
       "<div>\n",
       "<style scoped>\n",
       "    .dataframe tbody tr th:only-of-type {\n",
       "        vertical-align: middle;\n",
       "    }\n",
       "\n",
       "    .dataframe tbody tr th {\n",
       "        vertical-align: top;\n",
       "    }\n",
       "\n",
       "    .dataframe thead th {\n",
       "        text-align: right;\n",
       "    }\n",
       "</style>\n",
       "<table border=\"1\" class=\"dataframe\">\n",
       "  <thead>\n",
       "    <tr style=\"text-align: right;\">\n",
       "      <th></th>\n",
       "      <th>movie_id</th>\n",
       "      <th>title</th>\n",
       "      <th>runtime_minutes</th>\n",
       "      <th>genres</th>\n",
       "      <th>averagerating</th>\n",
       "      <th>numvotes</th>\n",
       "      <th>domestic_gross</th>\n",
       "      <th>foreign_gross</th>\n",
       "      <th>total_gross</th>\n",
       "    </tr>\n",
       "  </thead>\n",
       "  <tbody>\n",
       "    <tr>\n",
       "      <th>0</th>\n",
       "      <td>tt1375666</td>\n",
       "      <td>Inception</td>\n",
       "      <td>148.0</td>\n",
       "      <td>Action</td>\n",
       "      <td>8.8</td>\n",
       "      <td>1841066.0</td>\n",
       "      <td>292600000</td>\n",
       "      <td>535700000</td>\n",
       "      <td>828300000</td>\n",
       "    </tr>\n",
       "    <tr>\n",
       "      <th>1</th>\n",
       "      <td>tt1375666</td>\n",
       "      <td>Inception</td>\n",
       "      <td>148.0</td>\n",
       "      <td>Adventure</td>\n",
       "      <td>8.8</td>\n",
       "      <td>1841066.0</td>\n",
       "      <td>292600000</td>\n",
       "      <td>535700000</td>\n",
       "      <td>828300000</td>\n",
       "    </tr>\n",
       "    <tr>\n",
       "      <th>2</th>\n",
       "      <td>tt1375666</td>\n",
       "      <td>Inception</td>\n",
       "      <td>148.0</td>\n",
       "      <td>Sci-Fi</td>\n",
       "      <td>8.8</td>\n",
       "      <td>1841066.0</td>\n",
       "      <td>292600000</td>\n",
       "      <td>535700000</td>\n",
       "      <td>828300000</td>\n",
       "    </tr>\n",
       "    <tr>\n",
       "      <th>3</th>\n",
       "      <td>tt1345836</td>\n",
       "      <td>The Dark Knight Rises</td>\n",
       "      <td>164.0</td>\n",
       "      <td>Action</td>\n",
       "      <td>8.4</td>\n",
       "      <td>1387769.0</td>\n",
       "      <td>448100000</td>\n",
       "      <td>636800000</td>\n",
       "      <td>1084900000</td>\n",
       "    </tr>\n",
       "    <tr>\n",
       "      <th>4</th>\n",
       "      <td>tt1345836</td>\n",
       "      <td>The Dark Knight Rises</td>\n",
       "      <td>164.0</td>\n",
       "      <td>Thriller</td>\n",
       "      <td>8.4</td>\n",
       "      <td>1387769.0</td>\n",
       "      <td>448100000</td>\n",
       "      <td>636800000</td>\n",
       "      <td>1084900000</td>\n",
       "    </tr>\n",
       "  </tbody>\n",
       "</table>\n",
       "</div>"
      ],
      "text/plain": [
       "    movie_id                  title  runtime_minutes     genres  \\\n",
       "0  tt1375666              Inception            148.0     Action   \n",
       "1  tt1375666              Inception            148.0  Adventure   \n",
       "2  tt1375666              Inception            148.0     Sci-Fi   \n",
       "3  tt1345836  The Dark Knight Rises            164.0     Action   \n",
       "4  tt1345836  The Dark Knight Rises            164.0   Thriller   \n",
       "\n",
       "   averagerating   numvotes  domestic_gross  foreign_gross  total_gross  \n",
       "0            8.8  1841066.0       292600000      535700000    828300000  \n",
       "1            8.8  1841066.0       292600000      535700000    828300000  \n",
       "2            8.8  1841066.0       292600000      535700000    828300000  \n",
       "3            8.4  1387769.0       448100000      636800000   1084900000  \n",
       "4            8.4  1387769.0       448100000      636800000   1084900000  "
      ]
     },
     "execution_count": 45,
     "metadata": {},
     "output_type": "execute_result"
    }
   ],
   "source": [
    "movies_ratings_gross.head()"
   ]
  },
  {
   "cell_type": "code",
   "execution_count": 46,
   "id": "8b51ba76-9744-4d07-9c5b-acef4ec0484c",
   "metadata": {},
   "outputs": [
    {
     "data": {
      "text/plain": [
       "<bound method DataFrame.info of        movie_id                       title  runtime_minutes       genres  \\\n",
       "0     tt1375666                   Inception            148.0       Action   \n",
       "1     tt1375666                   Inception            148.0    Adventure   \n",
       "2     tt1375666                   Inception            148.0       Sci-Fi   \n",
       "3     tt1345836       The Dark Knight Rises            164.0       Action   \n",
       "4     tt1345836       The Dark Knight Rises            164.0     Thriller   \n",
       "...         ...                         ...              ...          ...   \n",
       "6920  tt4540326                      Buried             95.0     Thriller   \n",
       "6921  tt2201884                The Workshop             77.0  Documentary   \n",
       "6922  tt2201884                The Workshop             77.0       Family   \n",
       "6923  tt3604256                       Split              NaN        Crime   \n",
       "6924  tt3566920  The Other Side of the Door             90.0        Drama   \n",
       "\n",
       "      averagerating   numvotes  domestic_gross  foreign_gross  total_gross  \n",
       "0               8.8  1841066.0       292600000      535700000    828300000  \n",
       "1               8.8  1841066.0       292600000      535700000    828300000  \n",
       "2               8.8  1841066.0       292600000      535700000    828300000  \n",
       "3               8.4  1387769.0       448100000      636800000   1084900000  \n",
       "4               8.4  1387769.0       448100000      636800000   1084900000  \n",
       "...             ...        ...             ...            ...          ...  \n",
       "6920            6.0        5.0         1000000       18100000     19100000  \n",
       "6921            8.0        5.0           22100              0        22100  \n",
       "6922            8.0        5.0           22100              0        22100  \n",
       "6923            6.8        5.0       138300000      140200000    278500000  \n",
       "6924            3.8        5.0         3000000       11300000     14300000  \n",
       "\n",
       "[6925 rows x 9 columns]>"
      ]
     },
     "execution_count": 46,
     "metadata": {},
     "output_type": "execute_result"
    }
   ],
   "source": [
    "movies_ratings_gross.info"
   ]
  },
  {
   "cell_type": "markdown",
   "id": "29c837e4-6f2a-420e-ba54-0fa8132719d8",
   "metadata": {},
   "source": [
    "Now that we have our datasets ready and cleaned, we will save them in case we need to use outside software, such as Tableau, to assist with visualizations."
   ]
  },
  {
   "cell_type": "code",
   "execution_count": 47,
   "id": "5cf2d843-146f-4e70-ab34-70c9d11d5983",
   "metadata": {},
   "outputs": [],
   "source": [
    "movies_ratings_gross.to_csv('movies_ratings_gross.csv')\n",
    "imdb_movie_ratings.to_csv('imdb_ratings.csv')\n",
    "imdb_expl_genres.to_csv('imdb_genres_ratings.csv')\n",
    "box_office_clean.to_csv('box_office_clean.csv')"
   ]
  },
  {
   "cell_type": "markdown",
   "id": "0f008f00-f15c-498b-8c81-f91a1d44d169",
   "metadata": {},
   "source": [
    "## 5. Modeling"
   ]
  },
  {
   "cell_type": "markdown",
   "id": "41c8beef-a497-4db7-b46e-f126882f5fce",
   "metadata": {},
   "source": [
    "With the datasets prepared and ready, we can start to look at how the data is distributed and produce visualizations to provide more insight into the significance of the factors outlined above (`Vote Count`, `Average Rating`, `Total Gross`, `Genres`)."
   ]
  },
  {
   "cell_type": "code",
   "execution_count": 48,
   "id": "ec4a02d0-e561-4629-ae1b-ba8751ef67ff",
   "metadata": {},
   "outputs": [],
   "source": [
    "# importing libraries\n",
    "\n",
    "import matplotlib.pyplot as plt\n",
    "import seaborn as sns\n",
    "import numpy as np\n",
    "%matplotlib inline\n",
    "\n",
    "warnings.filterwarnings('ignore', category=FutureWarning)\n",
    "\n",
    "plt.rcdefaults()\n",
    "plt.style.use('seaborn-v0_8-darkgrid')"
   ]
  },
  {
   "cell_type": "code",
   "execution_count": 49,
   "id": "5a969e81-a13e-4e89-87f5-a4e01bc3f69a",
   "metadata": {},
   "outputs": [
    {
     "data": {
      "text/plain": [
       "(6925, 9)"
      ]
     },
     "execution_count": 49,
     "metadata": {},
     "output_type": "execute_result"
    }
   ],
   "source": [
    "movies_ratings_gross.shape"
   ]
  },
  {
   "cell_type": "code",
   "execution_count": 50,
   "id": "54ba229b-298c-4a98-a3fa-5f700811d9af",
   "metadata": {},
   "outputs": [
    {
     "data": {
      "text/plain": [
       "72596.65155234656"
      ]
     },
     "execution_count": 50,
     "metadata": {},
     "output_type": "execute_result"
    }
   ],
   "source": [
    "# looking at the average Vote Count\n",
    "\n",
    "movies_ratings_gross['numvotes'].mean()"
   ]
  },
  {
   "cell_type": "markdown",
   "id": "dbaab091-0e29-4db5-ba72-e4ccd6323da3",
   "metadata": {},
   "source": [
    "### 5.a. Looking at distribution of `Vote Count`, `Average Rating`, `Genres`"
   ]
  },
  {
   "cell_type": "code",
   "execution_count": 51,
   "id": "bdfeefe6-ae31-48f6-a971-0af1b170ef5e",
   "metadata": {},
   "outputs": [
    {
     "data": {
      "image/png": "[encoded data removed]",
      "text/plain": [
       "<Figure size 1200x800 with 4 Axes>"
      ]
     },
     "metadata": {},
     "output_type": "display_data"
    }
   ],
   "source": [
    "fig, ((genre_hist, vote_hist), (rating_box, rating_hist)) = plt.subplots(\n",
    "    nrows=2, ncols=2, \n",
    "    figsize=(12,8))\n",
    "\n",
    "# Top Row\n",
    "genre_hist.hist(movies_ratings_gross['genres'], bins=22, align='left', orientation='horizontal', edgecolor='black')\n",
    "genre_hist.set_xlabel('Number of Movies by Genre')\n",
    "\n",
    "vote_hist.hist(movies_ratings_gross['numvotes'])\n",
    "vote_hist.set_xlabel(' Vote Count Distribution')\n",
    "\n",
    "# Bottom Row\n",
    "rating_box.boxplot(movies_ratings_gross['averagerating'], vert=False)\n",
    "rating_box.set_xlabel('Average Rating Distribution')\n",
    "\n",
    "rating_hist.hist(movies_ratings_gross['averagerating'], orientation='vertical')\n",
    "rating_hist.set_xlabel('Average Rating')\n",
    "rating_hist.set_ylabel('Number of Movies')\n",
    "\n",
    "\n",
    "\n",
    "\n",
    "plt.tight_layout();"
   ]
  },
  {
   "cell_type": "markdown",
   "id": "b356d21a-c952-4ea8-832a-356a151c4692",
   "metadata": {},
   "source": [
    "**We can see that the Vote Counts are heavily skewed to the left, indicating a high quantity of films with low Vote Counts.**\n",
    "\n",
    "This could potentially pollute our analysis, as we are looking to analyze the films with the highest viewership and vote count.\n",
    "\n",
    "Let's look at some data around the vote counts."
   ]
  },
  {
   "cell_type": "code",
   "execution_count": 52,
   "id": "f04e445a-8463-4071-b736-88d7acf859f5",
   "metadata": {},
   "outputs": [
    {
     "name": "stdout",
     "output_type": "stream",
     "text": [
      " The average number of votes is: 72596.65\n",
      " The median vote count is: 19387.0\n",
      " The number of movies in the bottom 75% in terms of vote count is: 79337.0\n"
     ]
    }
   ],
   "source": [
    "votes_mean = round(movies_ratings_gross['numvotes'].mean(), 2)\n",
    "votes_median = movies_ratings_gross['numvotes'].median()\n",
    "votes_q75 = movies_ratings_gross['numvotes'].quantile(.75)\n",
    "\n",
    "print(f\" The average number of votes is: {votes_mean}\")\n",
    "print(f\" The median vote count is: {votes_median}\")\n",
    "print(f\" The number of movies in the bottom 75% in terms of vote count is: {votes_q75}\")\n"
   ]
  },
  {
   "cell_type": "markdown",
   "id": "6e445a80-836b-4dcb-8284-78ebfba88457",
   "metadata": {},
   "source": [
    "**To further narrow our analysis, let's remove the titles in the bottom 75% of movies in terms of vote count.** \n",
    "\n",
    "Though this is the majority of our data, it was give us a sharper analysis since we will be looking at the movies that gained the most traction and highest audience count.\n",
    "\n",
    "**We will also create a new dataframe with the bottom 75% of movies in terms of vote count in case it helps us see what movies to avoid.**"
   ]
  },
  {
   "cell_type": "code",
   "execution_count": 53,
   "id": "2ac24adc-9c22-452c-aaeb-6af4cf41a626",
   "metadata": {},
   "outputs": [],
   "source": [
    "# creating new dataframe with the top 25% of movies in terms of vote count\n",
    "\n",
    "movies_top_25 = movies_ratings_gross[\n",
    "    movies_ratings_gross['numvotes'] >= votes_q75\n",
    "]\n",
    "\n",
    "# creating new dataframe with bottom 75% of movies in terms of vote count\n",
    "\n",
    "movies_bottom_75 = movies_ratings_gross[\n",
    "    movies_ratings_gross['numvotes'] <= votes_q75\n",
    "]"
   ]
  },
  {
   "cell_type": "code",
   "execution_count": 54,
   "id": "8bc05beb-6c81-4473-b0e8-3b1be956f2e9",
   "metadata": {},
   "outputs": [
    {
     "name": "stdout",
     "output_type": "stream",
     "text": [
      "(1733, 9)\n",
      "(5194, 9)\n"
     ]
    }
   ],
   "source": [
    "print(movies_top_25.shape)\n",
    "print(movies_bottom_75.shape)"
   ]
  },
  {
   "cell_type": "markdown",
   "id": "0d28b211-25c0-4222-b16b-70be65f91ef9",
   "metadata": {},
   "source": [
    "**With 1,700 movies left in our new `movies_top_25`, let's see look at the distributions play out now.**"
   ]
  },
  {
   "cell_type": "code",
   "execution_count": 57,
   "id": "10e80616-65cf-47b0-8bf8-6efdd745aed1",
   "metadata": {},
   "outputs": [
    {
     "data": {
      "image/png": "[encoded data removed]",
      "text/plain": [
       "<Figure size 1200x800 with 4 Axes>"
      ]
     },
     "metadata": {},
     "output_type": "display_data"
    }
   ],
   "source": [
    "fig, ((genre_hist, vote_hist), (rating_box, rating_hist)) = plt.subplots(\n",
    "    nrows=2, ncols=2, \n",
    "    figsize=(12,8))\n",
    "\n",
    "# Top Row\n",
    "genre_hist.hist(movies_top_25['genres'], bins=22, align='left', orientation='horizontal', edgecolor='black')\n",
    "genre_hist.set_xlabel('Number of Movies by Genre (Top 25%)')\n",
    "\n",
    "vote_hist.hist(movies_top_25['numvotes'])\n",
    "vote_hist.set_xlabel('Vote Count Distribution (Top 25%)')\n",
    "\n",
    "# Bottom Row\n",
    "rating_box.boxplot(movies_top_25['averagerating'], vert=False)\n",
    "rating_box.set_xlabel('Average Rating (Top 25%)')\n",
    "\n",
    "rating_hist.hist(movies_top_25['averagerating'], orientation='vertical')\n",
    "rating_hist.set_xlabel('Average Rating Distribution (Top 25%)')\n",
    "rating_hist.set_ylabel('Number of Movies')\n",
    "\n",
    "\n",
    "\n",
    "\n",
    "plt.tight_layout()"
   ]
  },
  {
   "cell_type": "markdown",
   "id": "e426220e-a4e3-4224-90b5-5d9ca072c440",
   "metadata": {},
   "source": [
    "The distribution of the vote count only improved slightly, which is unavaoidable considering the sheer amount of content out there that is being produced.\n",
    "\n",
    "The average rating shifted slightly to the right, with a higher density around the middle than before.\n",
    "\n",
    "Most significant is the distribution of genres, with `Drama` dropping significantly and notably higher distributions for `Thriller`, `Action`, and `Comedy`."
   ]
  },
  {
   "cell_type": "markdown",
   "id": "acb3440c-15ba-42cd-99c5-7a061d410221",
   "metadata": {},
   "source": [
    "Now that we are dealing with the top 25% of movies according to vote count, let's see which genres tend to gross the highest in total."
   ]
  },
  {
   "cell_type": "markdown",
   "id": "552812b5-dcae-431c-99d4-e0c6fe844cb3",
   "metadata": {},
   "source": [
    "### 5.b. What is the relationship between `Gross`, `Average Rating`, and `Vote Count`?"
   ]
  },
  {
   "cell_type": "markdown",
   "id": "f5c25ab6-f665-471a-8cf0-00d6754aeec7",
   "metadata": {},
   "source": [
    "Let's further investigate the relationship between the factors of Gross, Average Rating, and Vote Count, and see whether these relationships are statistically significant. We will do this by calculating the **Correlation Coefficient** which can help determine if the strength of the relationship between these factors."
   ]
  },
  {
   "cell_type": "markdown",
   "id": "1ce12857-70d3-4f1e-b858-e548eef6dff2",
   "metadata": {},
   "source": [
    "#### Relationship between `Total Gross` and `Vote Count`"
   ]
  },
  {
   "cell_type": "code",
   "execution_count": 58,
   "id": "755c223d-a405-4931-a235-c23c37aa4fef",
   "metadata": {},
   "outputs": [
    {
     "name": "stdout",
     "output_type": "stream",
     "text": [
      "Correlation between number of votes and average total gross: 0.6642204874541286\n"
     ]
    }
   ],
   "source": [
    "# using NumPy to calculate Correlation Coefficient\n",
    "\n",
    "print('Correlation between number of votes and average total gross: {}'.format(\n",
    "    np.corrcoef(\n",
    "        movies_ratings_gross['total_gross'],\n",
    "        movies_ratings_gross['numvotes'])[0,1]\n",
    "))"
   ]
  },
  {
   "cell_type": "markdown",
   "id": "5b2f791a-8c7c-4f8a-8629-9c7e7a41f2d7",
   "metadata": {},
   "source": [
    "This suggests a **moderate positive correlation** between total gross and number of votes, which is expected to a degree. Let's see how this relationship plays out on a scatterplot."
   ]
  },
  {
   "cell_type": "code",
   "execution_count": 59,
   "id": "8163d80f-8759-453e-a874-801072ddb22d",
   "metadata": {},
   "outputs": [
    {
     "data": {
      "image/png": "[encoded data removed]",
      "text/plain": [
       "<Figure size 700x300 with 1 Axes>"
      ]
     },
     "metadata": {},
     "output_type": "display_data"
    }
   ],
   "source": [
    "# visualizing the relationship with a scatterplot\n",
    "\n",
    "fix, ax = plt.subplots(figsize=(7, 3))\n",
    "\n",
    "ax.scatter(\n",
    "    x=movies_ratings_gross['numvotes'],\n",
    "    y=movies_ratings_gross['total_gross'])\n",
    "\n",
    "ax.set_xlabel('Vote Count')\n",
    "ax.set_ylabel('Total Gross')\n",
    "ax.set_title('Relationship between Vote Count and Total Gross');"
   ]
  },
  {
   "cell_type": "markdown",
   "id": "7ec45fa0-553f-44cd-a7ff-70165c33d6c5",
   "metadata": {},
   "source": [
    "We can deduce with some certainty that **the higher vote count a movie has, the higher the movie's total gross.**"
   ]
  },
  {
   "cell_type": "markdown",
   "id": "88f9c67a-7bf5-4725-8a26-a5293285095f",
   "metadata": {},
   "source": [
    "#### Relationship between `Total Gross` and `Average Rating`"
   ]
  },
  {
   "cell_type": "code",
   "execution_count": 60,
   "id": "e3811572-7cb9-45e5-b19e-42af4bef85f8",
   "metadata": {},
   "outputs": [
    {
     "name": "stdout",
     "output_type": "stream",
     "text": [
      "Correlation between average rating and average total gross: 0.1482181472229351\n"
     ]
    }
   ],
   "source": [
    "# using NumPy to calculate Correlation Coefficient\n",
    "\n",
    "print('Correlation between average rating and average total gross: {}'.format(\n",
    "    np.corrcoef(\n",
    "        movies_ratings_gross['total_gross'],\n",
    "        movies_ratings_gross['averagerating'])[0,1]\n",
    "))"
   ]
  },
  {
   "cell_type": "markdown",
   "id": "85879c00-b612-442b-b941-819d8ac5cc74",
   "metadata": {},
   "source": [
    "This suggests a **relatively weak positive correlation** between total gross and average rating, essentially telling us that not all movies that make a lot of money are well-received by the audience or critics."
   ]
  },
  {
   "cell_type": "code",
   "execution_count": 61,
   "id": "e23d6265-4ca9-4b7b-913a-0c18f1d5b7d9",
   "metadata": {},
   "outputs": [
    {
     "data": {
      "image/png": "[encoded data removed]",
      "text/plain": [
       "<Figure size 500x300 with 1 Axes>"
      ]
     },
     "metadata": {},
     "output_type": "display_data"
    }
   ],
   "source": [
    "# visualizing the relationship with a scatterplot\n",
    "\n",
    "fix, ax = plt.subplots(figsize=(5, 3))\n",
    "\n",
    "ax.scatter(\n",
    "    x=movies_ratings_gross['averagerating'],\n",
    "    y=movies_ratings_gross['total_gross'])\n",
    "\n",
    "ax.set_xlabel('Average Rating')\n",
    "ax.set_ylabel('Total Gross')\n",
    "ax.set_title('Relationship between Average Rating and Total Gross');"
   ]
  },
  {
   "cell_type": "markdown",
   "id": "39766990-82e9-423e-af66-4b2a65f6ef04",
   "metadata": {},
   "source": [
    "With this relatively weak positive correlation, what we can deduce is that **just because a movie makes money at the box office, doesn't mean it is well-received by audiences or critics**.\n",
    "\n",
    "This is significant if we are considering which movies will be in high demand for streaming platforms after their theatrical run."
   ]
  },
  {
   "cell_type": "markdown",
   "id": "c2f1b193-28d4-433d-98d5-89ec7d2bdd27",
   "metadata": {},
   "source": [
    "#### Relationship between `Average Rating` and `Vote Count`"
   ]
  },
  {
   "cell_type": "code",
   "execution_count": 62,
   "id": "cf19137b-104b-448b-ada1-1543b1e21c19",
   "metadata": {},
   "outputs": [
    {
     "name": "stdout",
     "output_type": "stream",
     "text": [
      "Correlation between average rating and number of votes: 0.31837836436903144\n"
     ]
    }
   ],
   "source": [
    "# using NumPy to calculate Correlation Coefficient\n",
    "\n",
    "print('Correlation between average rating and number of votes: {}'.format(\n",
    "    np.corrcoef(\n",
    "        movies_ratings_gross['numvotes'],\n",
    "        movies_ratings_gross['averagerating'])[0,1]\n",
    "))"
   ]
  },
  {
   "cell_type": "markdown",
   "id": "6f6ccfb3-7577-4672-b744-449fef6394b8",
   "metadata": {},
   "source": [
    "This suggests a **relatively weak positive correlation** between the average rating and number of votes, as expected."
   ]
  },
  {
   "cell_type": "code",
   "execution_count": 63,
   "id": "c83ee680-d6e4-4431-939f-f2026d843583",
   "metadata": {},
   "outputs": [
    {
     "data": {
      "image/png": "[encoded data removed]",
      "text/plain": [
       "<Figure size 500x300 with 1 Axes>"
      ]
     },
     "metadata": {},
     "output_type": "display_data"
    }
   ],
   "source": [
    "# visualizing the relationship with a scatterplot\n",
    "\n",
    "fig, ax = plt.subplots(figsize=(5, 3))\n",
    "\n",
    "ax.scatter(\n",
    "    x=movies_ratings_gross['numvotes'],\n",
    "    y=movies_ratings_gross['averagerating'])\n",
    "\n",
    "ax.set_xlabel('Vote Count')\n",
    "ax.set_ylabel('Average Rating')\n",
    "ax.set_title('Relationship between Vote Count and Average Rating');"
   ]
  },
  {
   "cell_type": "markdown",
   "id": "1f89194d-35aa-446c-83ba-3c8c6e6cbb8d",
   "metadata": {},
   "source": [
    "Though the correlation is relatively weaker, it is still a positive correlation, which tells us that in general a movie that is seen more and rated more, tends ot be received better by audiences and critics."
   ]
  },
  {
   "cell_type": "markdown",
   "id": "3218bdd7-589c-48b3-8ffc-48f5cac25a95",
   "metadata": {},
   "source": [
    "<div class=\"alert alert-block alert-success\">\n",
    "\n",
    "#### **In sum, these correlation metrics tell us the following:**\n",
    "\n",
    "1. Movies with higher vote counts tend to have higher rates of total gross and average ratings.\n",
    "2. Movies that are rated higher tend to gross more.\n",
    "\n",
    "These findings are significant because they confirm that `Average Rating`, `Vote Count`, and `Total Gross` are useful metrics for measuring a movie's success."
   ]
  },
  {
   "cell_type": "markdown",
   "id": "4cdb88a8-8ecc-48f5-a84f-268777cf5702",
   "metadata": {},
   "source": [
    "### 5.c. Which `Genres` tend to perform the best?"
   ]
  },
  {
   "cell_type": "markdown",
   "id": "feac53fc-683d-4cc8-b24d-294174937cb9",
   "metadata": {},
   "source": [
    "Now we need to investigate which genres tend to perform the best in terms of `Total Gross`, `Vote Count`, and `Average Rating`.\n",
    "\n",
    "We can start by creating a pivot table that pulls just the columns we need from our dataset."
   ]
  },
  {
   "cell_type": "code",
   "execution_count": 68,
   "id": "c17b6b4b-5321-4f62-96e0-c1628b437a00",
   "metadata": {},
   "outputs": [
    {
     "data": {
      "text/html": [
       "<div>\n",
       "<style scoped>\n",
       "    .dataframe tbody tr th:only-of-type {\n",
       "        vertical-align: middle;\n",
       "    }\n",
       "\n",
       "    .dataframe tbody tr th {\n",
       "        vertical-align: top;\n",
       "    }\n",
       "\n",
       "    .dataframe thead th {\n",
       "        text-align: right;\n",
       "    }\n",
       "</style>\n",
       "<table border=\"1\" class=\"dataframe\">\n",
       "  <thead>\n",
       "    <tr style=\"text-align: right;\">\n",
       "      <th></th>\n",
       "      <th>genres</th>\n",
       "      <th>averagerating</th>\n",
       "      <th>numvotes</th>\n",
       "      <th>total_gross</th>\n",
       "    </tr>\n",
       "  </thead>\n",
       "  <tbody>\n",
       "    <tr>\n",
       "      <th>0</th>\n",
       "      <td>Animation</td>\n",
       "      <td>7.20</td>\n",
       "      <td>229980.20</td>\n",
       "      <td>6.045609e+08</td>\n",
       "    </tr>\n",
       "    <tr>\n",
       "      <th>1</th>\n",
       "      <td>Adventure</td>\n",
       "      <td>6.80</td>\n",
       "      <td>297638.84</td>\n",
       "      <td>4.727174e+08</td>\n",
       "    </tr>\n",
       "    <tr>\n",
       "      <th>2</th>\n",
       "      <td>Musical</td>\n",
       "      <td>7.60</td>\n",
       "      <td>199663.00</td>\n",
       "      <td>4.350000e+08</td>\n",
       "    </tr>\n",
       "    <tr>\n",
       "      <th>3</th>\n",
       "      <td>Sci-Fi</td>\n",
       "      <td>6.86</td>\n",
       "      <td>364545.41</td>\n",
       "      <td>4.103957e+08</td>\n",
       "    </tr>\n",
       "    <tr>\n",
       "      <th>4</th>\n",
       "      <td>Family</td>\n",
       "      <td>6.71</td>\n",
       "      <td>179190.92</td>\n",
       "      <td>3.627833e+08</td>\n",
       "    </tr>\n",
       "  </tbody>\n",
       "</table>\n",
       "</div>"
      ],
      "text/plain": [
       "      genres  averagerating   numvotes   total_gross\n",
       "0  Animation           7.20  229980.20  6.045609e+08\n",
       "1  Adventure           6.80  297638.84  4.727174e+08\n",
       "2    Musical           7.60  199663.00  4.350000e+08\n",
       "3     Sci-Fi           6.86  364545.41  4.103957e+08\n",
       "4     Family           6.71  179190.92  3.627833e+08"
      ]
     },
     "execution_count": 68,
     "metadata": {},
     "output_type": "execute_result"
    }
   ],
   "source": [
    "# Creating a pivot table that tracks Total Gross, Ratings, and Vote Count by Genre of the top 25% of movies\n",
    "\n",
    "pivot_genres_25 = pd.pivot_table(\n",
    "    data=movies_top_25,\n",
    "    values=['total_gross', 'averagerating','numvotes'],\n",
    "    index='genres',\n",
    "    aggfunc=np.mean\n",
    ").sort_values(by='total_gross', ascending=False).reset_index()\n",
    "\n",
    "\n",
    "pivot_genres_25 = pivot_genres_25.round(2)\n",
    "pivot_genres_25.head(5)"
   ]
  },
  {
   "cell_type": "code",
   "execution_count": 69,
   "id": "5f593cb6-1115-4c64-a016-2094ac41157d",
   "metadata": {},
   "outputs": [],
   "source": [
    "# Creating two more pivot tables for Vote Count and Average Rating\n",
    "\n",
    "pivot_vote_25 = pd.pivot_table(\n",
    "    data=pivot_genres_25,\n",
    "    values='numvotes',\n",
    "    index='genres',\n",
    "    aggfunc=np.mean\n",
    ").sort_values(by='numvotes', ascending=False).reset_index()\n",
    "\n",
    "pivot_rating_25 = pd.pivot_table(\n",
    "    data=pivot_genres_25,\n",
    "    values='averagerating',\n",
    "    index='genres'\n",
    ").sort_values(by='averagerating', ascending=False).reset_index()"
   ]
  },
  {
   "cell_type": "code",
   "execution_count": 70,
   "id": "42bb920b-cee9-4f20-be05-ee87d07fe64d",
   "metadata": {},
   "outputs": [
    {
     "data": {
      "text/html": [
       "<div>\n",
       "<style scoped>\n",
       "    .dataframe tbody tr th:only-of-type {\n",
       "        vertical-align: middle;\n",
       "    }\n",
       "\n",
       "    .dataframe tbody tr th {\n",
       "        vertical-align: top;\n",
       "    }\n",
       "\n",
       "    .dataframe thead th {\n",
       "        text-align: right;\n",
       "    }\n",
       "</style>\n",
       "<table border=\"1\" class=\"dataframe\">\n",
       "  <thead>\n",
       "    <tr style=\"text-align: right;\">\n",
       "      <th></th>\n",
       "      <th>genres</th>\n",
       "      <th>numvotes</th>\n",
       "    </tr>\n",
       "  </thead>\n",
       "  <tbody>\n",
       "    <tr>\n",
       "      <th>0</th>\n",
       "      <td>Western</td>\n",
       "      <td>466200.00</td>\n",
       "    </tr>\n",
       "    <tr>\n",
       "      <th>1</th>\n",
       "      <td>Sci-Fi</td>\n",
       "      <td>364545.41</td>\n",
       "    </tr>\n",
       "    <tr>\n",
       "      <th>2</th>\n",
       "      <td>Adventure</td>\n",
       "      <td>297638.84</td>\n",
       "    </tr>\n",
       "    <tr>\n",
       "      <th>3</th>\n",
       "      <td>Action</td>\n",
       "      <td>265417.13</td>\n",
       "    </tr>\n",
       "    <tr>\n",
       "      <th>4</th>\n",
       "      <td>Mystery</td>\n",
       "      <td>247498.60</td>\n",
       "    </tr>\n",
       "  </tbody>\n",
       "</table>\n",
       "</div>"
      ],
      "text/plain": [
       "      genres   numvotes\n",
       "0    Western  466200.00\n",
       "1     Sci-Fi  364545.41\n",
       "2  Adventure  297638.84\n",
       "3     Action  265417.13\n",
       "4    Mystery  247498.60"
      ]
     },
     "execution_count": 70,
     "metadata": {},
     "output_type": "execute_result"
    }
   ],
   "source": [
    "pivot_vote_25.head(5)"
   ]
  },
  {
   "cell_type": "markdown",
   "id": "46d3543a-9c24-4532-b02f-286a90cdfbad",
   "metadata": {},
   "source": [
    "Now that we have out pivot tables ready, let's visualize the `Average Rating by Genre` and `Average Vote Count by Genre`."
   ]
  },
  {
   "cell_type": "code",
   "execution_count": 71,
   "id": "64c38a9b-21d2-4143-a3c7-87d15c17e898",
   "metadata": {},
   "outputs": [
    {
     "data": {
      "image/png": "[encoded data removed]",
      "text/plain": [
       "<Figure size 1400x600 with 2 Axes>"
      ]
     },
     "metadata": {},
     "output_type": "display_data"
    }
   ],
   "source": [
    "fig, (genre_rating, genre_vote) = plt.subplots(nrows=1, ncols=2, figsize=(14, 6))\n",
    "\n",
    "genre_rating.barh(\n",
    "    y=pivot_rating_25['genres'].head(10),\n",
    "    width=pivot_rating_25['averagerating'].head(10))\n",
    "genre_rating.set_xlabel('Average Rating')\n",
    "genre_rating.set_title('Top 10: Average Rating by Genre of Top 25% of Movies')\n",
    "\n",
    "genre_vote.barh(\n",
    "    y=pivot_vote_25['genres'].head(10),\n",
    "    width=pivot_vote_25['numvotes'].head(10))\n",
    "genre_vote.set_xlabel('Vote Count')\n",
    "genre_vote.set_title('Top 10: Average Vote Count by Genre of Top 25% of Movies')\n",
    "\n",
    "plt.tight_layout();"
   ]
  },
  {
   "cell_type": "markdown",
   "id": "2f3bf251-901c-49d9-9134-f0544c782824",
   "metadata": {},
   "source": [
    "These first graph doesn't tell us too much, as there is little difference between the Average Ratings of the Top 10 Genres.\n",
    "\n",
    "The second graph tells us that the following genres tend other have significantly higher vote counts:\n",
    "1. `Western`\n",
    "2. `Sci-Fi`\n",
    "3. `Adventure`"
   ]
  },
  {
   "cell_type": "code",
   "execution_count": 73,
   "id": "d0292b66-1174-4032-96b4-65fff54b3758",
   "metadata": {},
   "outputs": [
    {
     "data": {
      "image/png": "[encoded data removed]",
      "text/plain": [
       "<Figure size 1200x600 with 1 Axes>"
      ]
     },
     "metadata": {},
     "output_type": "display_data"
    }
   ],
   "source": [
    "# Visualizing the average total gross by genres, with the top 10 genres indicated by Dark Blue\n",
    "\n",
    "vals = pivot_genres_25['total_gross']\n",
    "labels = pivot_genres_25['genres']\n",
    "\n",
    "plt.figure(figsize=(12,6))\n",
    "\n",
    "genres_gross_barplot = sns.barplot(\n",
    "    x=vals,\n",
    "    y=labels,\n",
    "    orient='y',\n",
    "    palette=['darkblue' if (x > vals[10]) else 'lightblue' for x in vals]\n",
    "\n",
    ")\n",
    "\n",
    "genres_gross_barplot.set(\n",
    "    xlabel='Average Total Gross',\n",
    "    ylabel='Genre',\n",
    "    title='Average Total Gross by Genre for Top 25% of Movies');"
   ]
  },
  {
   "cell_type": "markdown",
   "id": "5b5e1986-f13e-44e6-82dd-f8e98d7ff5c2",
   "metadata": {},
   "source": [
    "<div class=\"alert alert-block alert-success\">\n",
    "\n",
    "#### It's interesting to note the following:\n",
    "\n",
    "1. While `Western` movies had much higher rates of Vote Counts, they were only 8th in rates of highest gross. This could indicate that while `Western` movies are viewed by more people that feel compelled to provide ratings and reviews, they don't perform as well in theaters.\n",
    "\n",
    "\n",
    "2. `Animation` movies tend to gross much higher than others, though they are not so significant when it comes to Average Rating.. This could indicate that most animated movies are marketed to children and thus do not translate very high to Average Rating, seeing as animated movies are still in the Top 10 for Vote Count. "
   ]
  },
  {
   "cell_type": "markdown",
   "id": "625e0e8b-5085-400d-899c-34ea5dec72d4",
   "metadata": {},
   "source": [
    "#### What about `movies_bottom_75`?\n",
    "\n",
    "Let's look at the distributions for the bottom 75% of movies in terms of vote count. Looking at this dataset can help us determine which types of movies we should avoid creating."
   ]
  },
  {
   "cell_type": "code",
   "execution_count": 74,
   "id": "956fbb9e-b0bc-4237-b78e-a0dd9a5bf343",
   "metadata": {},
   "outputs": [
    {
     "data": {
      "text/html": [
       "<div>\n",
       "<style scoped>\n",
       "    .dataframe tbody tr th:only-of-type {\n",
       "        vertical-align: middle;\n",
       "    }\n",
       "\n",
       "    .dataframe tbody tr th {\n",
       "        vertical-align: top;\n",
       "    }\n",
       "\n",
       "    .dataframe thead th {\n",
       "        text-align: right;\n",
       "    }\n",
       "</style>\n",
       "<table border=\"1\" class=\"dataframe\">\n",
       "  <thead>\n",
       "    <tr style=\"text-align: right;\">\n",
       "      <th></th>\n",
       "      <th>genres</th>\n",
       "      <th>averagerating</th>\n",
       "      <th>numvotes</th>\n",
       "      <th>total_gross</th>\n",
       "    </tr>\n",
       "  </thead>\n",
       "  <tbody>\n",
       "    <tr>\n",
       "      <th>0</th>\n",
       "      <td>Animation</td>\n",
       "      <td>6.48</td>\n",
       "      <td>23085.67</td>\n",
       "      <td>1.046213e+08</td>\n",
       "    </tr>\n",
       "    <tr>\n",
       "      <th>1</th>\n",
       "      <td>Adventure</td>\n",
       "      <td>6.18</td>\n",
       "      <td>25452.19</td>\n",
       "      <td>8.392298e+07</td>\n",
       "    </tr>\n",
       "    <tr>\n",
       "      <th>2</th>\n",
       "      <td>Sport</td>\n",
       "      <td>6.77</td>\n",
       "      <td>20759.18</td>\n",
       "      <td>8.297422e+07</td>\n",
       "    </tr>\n",
       "    <tr>\n",
       "      <th>3</th>\n",
       "      <td>Family</td>\n",
       "      <td>6.09</td>\n",
       "      <td>15891.66</td>\n",
       "      <td>5.526257e+07</td>\n",
       "    </tr>\n",
       "    <tr>\n",
       "      <th>4</th>\n",
       "      <td>Sci-Fi</td>\n",
       "      <td>5.68</td>\n",
       "      <td>27849.78</td>\n",
       "      <td>5.458951e+07</td>\n",
       "    </tr>\n",
       "  </tbody>\n",
       "</table>\n",
       "</div>"
      ],
      "text/plain": [
       "      genres  averagerating  numvotes   total_gross\n",
       "0  Animation           6.48  23085.67  1.046213e+08\n",
       "1  Adventure           6.18  25452.19  8.392298e+07\n",
       "2      Sport           6.77  20759.18  8.297422e+07\n",
       "3     Family           6.09  15891.66  5.526257e+07\n",
       "4     Sci-Fi           5.68  27849.78  5.458951e+07"
      ]
     },
     "execution_count": 74,
     "metadata": {},
     "output_type": "execute_result"
    }
   ],
   "source": [
    "# Creating a pivot table that tracks Total Gross, Ratings, and Vote Count by Genre of the bottom 75% of movies\n",
    "\n",
    "pivot_genres_75 = pd.pivot_table(\n",
    "    data=movies_bottom_75,\n",
    "    values=['total_gross', 'averagerating','numvotes'],\n",
    "    index='genres',\n",
    "    aggfunc=np.mean\n",
    ").sort_values(by='total_gross', ascending=False).reset_index()\n",
    "\n",
    "\n",
    "pivot_genres_75 = pivot_genres_75.round(2)\n",
    "pivot_genres_75.head(5)"
   ]
  },
  {
   "cell_type": "code",
   "execution_count": 75,
   "id": "42d6b210-df33-4cff-bcf8-3b97a0a7579f",
   "metadata": {},
   "outputs": [],
   "source": [
    "# Creating two more pivot tables for Vote Count and Average Rating\n",
    "\n",
    "pivot_vote_75 = pd.pivot_table(\n",
    "    data=pivot_genres_75,\n",
    "    values='numvotes',\n",
    "    index='genres',\n",
    "    aggfunc=np.mean\n",
    ").sort_values(by='numvotes', ascending=False).reset_index()\n",
    "\n",
    "pivot_rating_75 = pd.pivot_table(\n",
    "    data=pivot_genres_75,\n",
    "    values='averagerating',\n",
    "    index='genres'\n",
    ").sort_values(by='averagerating', ascending=False).reset_index()"
   ]
  },
  {
   "cell_type": "code",
   "execution_count": 103,
   "id": "54341c59-4583-4ffe-aaad-fa4c8b2e50da",
   "metadata": {},
   "outputs": [
    {
     "data": {
      "image/png": "[encoded data removed]",
      "text/plain": [
       "<Figure size 1400x600 with 4 Axes>"
      ]
     },
     "metadata": {},
     "output_type": "display_data"
    }
   ],
   "source": [
    "fig, ((genre_rating75, genre_vote75), (genre_rating25, genre_vote25)) = plt.subplots(\n",
    "    nrows=2, ncols=2, figsize=(14, 6))\n",
    "\n",
    "genre_rating75.barh(\n",
    "    y=pivot_rating_75['genres'].tail(10),\n",
    "    width=pivot_rating_75['averagerating'].tail(10), \n",
    "    color='orange')\n",
    "genre_rating75.set_xlabel('Average Rating')\n",
    "genre_rating75.set_title('Bottom 10: Average Rating by Genre of Bottom 75% of Movies')\n",
    "\n",
    "genre_vote75.barh(\n",
    "    y=pivot_vote_75['genres'].tail(10),\n",
    "    width=pivot_vote_75['numvotes'].tail(10), \n",
    "    color='orange')\n",
    "genre_vote75.set_xlabel('Vote Count')\n",
    "genre_vote75.set_title('Bottom 10: Average Vote Count by Genre of Bottom 75% of Movies')\n",
    "\n",
    "\n",
    "genre_rating25.barh(\n",
    "    y=pivot_rating_25['genres'].head(10),\n",
    "    width=pivot_rating_25['averagerating'].head(10))\n",
    "genre_rating25.set_xlabel('Average Rating')\n",
    "genre_rating25.set_title('Top 10: Average Rating by Genre of Top 25% of Movies')\n",
    "\n",
    "genre_vote25.barh(\n",
    "    y=pivot_vote_25['genres'].head(10),\n",
    "    width=pivot_vote_25['numvotes'].head(10))\n",
    "genre_vote25.set_xlabel('Vote Count')\n",
    "genre_vote25.set_title('Top 10: Average Vote Count by Genre of Top 25% of Movies')\n",
    "\n",
    "plt.tight_layout();"
   ]
  },
  {
   "cell_type": "markdown",
   "id": "f19408f8-d151-4296-9914-800c3e359c8f",
   "metadata": {},
   "source": [
    "As we can see, the difference between the average rating of the Top 10 movies is negligible, less than one point. The difference in average rating for the Bottom 10 is likewise negligible, though it is of a slightly wider margin than the Top 10.\n",
    "\n",
    "However, we do see a wide margin of difference between the average vote count of both the Top 10 and the Bottom 10 movies.\n",
    "\n",
    "<div class=\"alert alert-block alert-success\">\n",
    "\n",
    "Here's what we can tell:\n",
    "- While `Western` movies have the highest average vote count by far, their critical reception is not much different than other genres.\n",
    "- `Sci Fi` movies have high average vote count, but are not present in the Top 10 for average rating.\n",
    "- `News` and 'Documentary' movies have a starkly lower average vote count than any other genre in the Bottom 10.\n",
    "- `Horror` movies have the lowest average rating of the Bottom 10 and is not present in the Top 10."
   ]
  },
  {
   "cell_type": "markdown",
   "id": "4f48b9f9-cd29-49a5-8114-af8394f62735",
   "metadata": {},
   "source": [
    "#### Now let's look at the `Average Total Gross by Genre`."
   ]
  },
  {
   "cell_type": "code",
   "execution_count": 100,
   "id": "5279744e-dc7e-4c11-af2b-b8cdef793eb0",
   "metadata": {},
   "outputs": [
    {
     "data": {
      "image/png": "[encoded data removed]",
      "text/plain": [
       "<Figure size 1600x800 with 2 Axes>"
      ]
     },
     "metadata": {},
     "output_type": "display_data"
    }
   ],
   "source": [
    "# Visualizing the average total gross by genres for both top 25% and bottom 75% of movies\n",
    "\n",
    "vals_75 = pivot_genres_75['total_gross']\n",
    "labels_75 = pivot_genres_75['genres']\n",
    "\n",
    "vals_25 = pivot_genres_25['total_gross']\n",
    "labels_25 = pivot_genres_25['genres']\n",
    "\n",
    "fig, (ax1, ax2) = plt.subplots(ncols=2, figsize=(16, 8))\n",
    "\n",
    "# Bottom 75% barplot\n",
    "sns.barplot(\n",
    "    x=vals_75,\n",
    "    y=labels_75,\n",
    "    orient='h',\n",
    "    palette=['red' if (x < vals_75.median()) else 'darkred' for x in vals_75],\n",
    "    ax=ax1\n",
    ")\n",
    "ax1.set(\n",
    "    xlabel='Average Total Gross',\n",
    "    ylabel='Genre',\n",
    "    title='Average Total Gross by Genre for Bottom 75% of Movies'\n",
    ")\n",
    "\n",
    "# Top 25% barplot\n",
    "sns.barplot(\n",
    "    x=vals_25,\n",
    "    y=labels_25,\n",
    "    orient='h',\n",
    "    palette=['darkblue' if (x > vals_25.median()) else 'lightblue' for x in vals_25],\n",
    "    ax=ax2\n",
    ")\n",
    "ax2.set(\n",
    "    xlabel='Average Total Gross',\n",
    "    ylabel='Genre',\n",
    "    title='Average Total Gross by Genre for Top 25% of Movies'\n",
    ")\n",
    "\n",
    "plt.tight_layout()\n",
    "plt.show();\n"
   ]
  },
  {
   "cell_type": "markdown",
   "id": "4514cd77-44ad-4845-9d0f-5d047ea64f2b",
   "metadata": {},
   "source": [
    "We can see that the genres with the highest average of total gross are:\n",
    "\n",
    "1. `Animation`\n",
    "2. `Adventure`\n",
    "3. `Musical`\n",
    "4. `Sci-Fi`\n",
    "5. `Family`\n",
    "6. `Fantasy`\n",
    "7. `Action`\n",
    "8. `Western`\n",
    "9. `Comedy`\n",
    "10. `Thriller`\n",
    "\n",
    "We can also see that the poorest performing genres are:\n",
    "1. `Documentary`\n",
    "2. `Romance`\n",
    "3. `Mystery`\n",
    "4. `Drama`\n",
    "5. `Crime`\n",
    "6. `History`\n",
    "7. `Music`\n",
    "8. `Biography`\n",
    "9. `News`\n",
    "10. `Western`\n",
    "11. `War`"
   ]
  },
  {
   "cell_type": "markdown",
   "id": "d40f8bb1-3df8-487d-8ed5-aace75183c63",
   "metadata": {},
   "source": [
    "Of course, there is some overlap between the two visualizations, such as `Western` being listed among the Top 10 of the Top 25% and also in the Bottom 10 of the Bottom 75%. This should not be too surprising as it is plausible that films such as Westerns can do really well if made really well, or perform very poorly if not made right, and this might indicate that making these films would be risky.\n",
    "\n",
    "Instead, we should look at: "
   ]
  },
  {
   "cell_type": "markdown",
   "id": "9a2b31d0-c596-4a96-81dc-5e32170ee4b0",
   "metadata": {},
   "source": [
    "<div class=\"alert alert-block alert-success\">\n",
    "\n",
    "1. #### Which genres are present in the poorest performing genres but absent from the best performing genres?\n",
    "   - `Documentary`\n",
    "   - `War`\n",
    "   - `News`\n",
    "   - `Crime`\n",
    "   - `Romance`\n",
    "   - `Mystery`\n",
    "   - `Biography`\n",
    "   - `Drama` <br><br>\n",
    "2. #### Which genres are present in the highest performing genres of both Top 25% and Bottom 75%?\n",
    "   - `Animation`\n",
    "   - `Adventure`\n",
    "   - `Sci-Fi`\n",
    "   - `Musical`\n",
    "   - `Family`\n",
    "   - `Action`\n",
    "   - `Fantasy`\n",
    "   - `Comedy`\n",
    "   - `Thriller`\n",
    "\n"
   ]
  },
  {
   "cell_type": "markdown",
   "id": "eb5ba63e-fb89-45d1-93ce-55487c0f15f7",
   "metadata": {},
   "source": [
    "## 6. Evaluation"
   ]
  },
  {
   "cell_type": "markdown",
   "id": "fb94cd8c-6ff9-4cdf-b000-0ce8ce8af029",
   "metadata": {},
   "source": [
    "### 6.a. Limitations\n",
    "\n",
    "- **Did not look at closer data such as budget, director, cast.**\n",
    "\n",
    "Though these factors could be useful in determining which directors are more likely to create a successful movie, which actors are more likely to draw audiences, and how much of a budget could be expected to produce a hit movie, in reality these factors are more difficult to account for and too unreliable (for example, it's not a guarantee that a certain budget can be acquired, or that desired directors or actors could be secured).\n",
    "\n",
    "Since these factors lie alrgely outside the realm of our control, it's better to look at which types of movies perform well before considering details such as cast and director.\n",
    "\n",
    "- **Did not factor in longevity or demand on streaming**\n",
    "\n",
    "Unfortunately, streaming services tend to be generally tight-lipped about the performance of the products on their platforms. However, we can reasonably assume that movies that perform well at the box office and also garner a wide audience would be sought after by streaming platforms.\n",
    " \n",
    "- **Did not look at role of discourse, social media buzz, word of mouth, etc.**\n",
    "\n",
    "As these matters are largely outside the realm of our inquiry, and more difficult to ascertain to a definitive degree as opposed to hard numbers such as gross and critical reception, we were unable to factor these into our assessment, though we can also reasonably assume that movies that perform well and are widely viewed would correlate to higher degrees of online discourse and social media buzz."
   ]
  },
  {
   "cell_type": "markdown",
   "id": "9d05a7c2-c335-43b6-a363-4e50a10c7e37",
   "metadata": {},
   "source": [
    "### 6.b. Our Factors and Metrics\n",
    "\n",
    "To reiterate, we looked at the relationship between genres and three main metrics (gross, rating, vote count) as they provide insight in the following ways:\n",
    "\n",
    "1. *Average Gross*: This indicates a movie's performance at the box office and perhaps the most immediate and tangible form of return on investment. However, as is often the case, a movie may perform well in theaters despite being poorly received by audience and/or critics, so looking only at this factor would limit our insight.\n",
    "2. *Average Rating*: This metric helps us ascertain how well-received a movie was among audiences and critics, which can be a good indicator in considering the overall quality of a movie. However, this does not account for the fact that movies can be well-received by a tiny audience or gain a cult-following, and just because a movie has a high rating does not necessarily mean it was viewed widely or performed well at the box office.\n",
    "3. *Average Vote Count*: With this we are able to get a general sense of how widely-viewed or widely-engaged the movie was, as movie with a high vote indicates that it was more widely viewed, and also that those that viewed it were more motivated to provide a rating, whether positive or negative. However, this does not indicate to us a movie's success, as movies that were derided by audiences or received negatively by critics would also have high vote counts.\n",
    "\n",
    "Taking these three metrics in conjunction with each other gives us a fuller picture as to which genres pull audiences into theaters, are generally well-received by audiences and critics, and which are widely viewed. In the age of streaming, and despite the fluctuations in the streaming industry, we can reasonably assume that a movie that would perform well in 2 or 3 of these metric categories would be sought after by streaming companies."
   ]
  },
  {
   "cell_type": "markdown",
   "id": "32070a88-893c-47a7-8f6f-3f66163890ec",
   "metadata": {},
   "source": [
    "Despite these limitations, we have been able to identify **which genres tend to perform the best at the box office, attract the widest audience, and are best received on average by audiences and critics,** which will be outlined in our recommendations below."
   ]
  },
  {
   "cell_type": "markdown",
   "id": "72764a2e-02ee-424a-b9d7-8ebebd5d5b42",
   "metadata": {},
   "source": [
    "### 6.b. Which movies are best received by audiences and critics, have the highest vote counts, and the highest average ratings?"
   ]
  },
  {
   "cell_type": "markdown",
   "id": "ceadf232-e8d3-4ae9-88bc-09bbca67d50b",
   "metadata": {},
   "source": [
    "The analysis we conducted gave us three different lists:\n",
    "1. Highest Grossing Genres\n",
    "2. Genres with the Highest Ratings\n",
    "3. Genres with the Highest Vote Counts\n",
    "\n",
    "Let's take a closer look at the overlap between these lists:"
   ]
  },
  {
   "cell_type": "markdown",
   "id": "600ca96e-6a88-4f34-b03e-0c41c4ba0899",
   "metadata": {},
   "source": [
    "<div class=\"alert alert-block alert-success\">\n",
    "\n",
    "| Highest Gross & Vote Count | Highest Gross & Rating | Highest Rating & Vote Count |\n",
    "|:--------:|:--------:|:--------:|\n",
    "|   Sci-Fi  |  Musical   |  History   |\n",
    "|  Adventure   |  Animation   |  Biography   |\n",
    "|  Animation   |  -   |  Animation   |\n",
    "|  Action   |   -  |  Western   |\n",
    "|  Fantasy   |  -   |  Mystery   |\n",
    "|  Thriller   |  -   |  -    |"
   ]
  },
  {
   "cell_type": "markdown",
   "id": "7c5a636d-50de-403c-8f7a-002377aece1b",
   "metadata": {},
   "source": [
    "It is interesting to note that `Animation` is the only genre that overlaps across all three of those list of metrics, indicating it is the only genre that is among the highest grossing, highets rated, and has the highest vote count."
   ]
  },
  {
   "cell_type": "markdown",
   "id": "c382392a-e5b3-4e95-951b-30bd4f3c23ca",
   "metadata": {},
   "source": [
    "## 7. Recommendations\n",
    "\n",
    "Based on the insights gained from the analysis above, where we looked at which genres of movies had the highest vote counts on IMDB, the highest ratings, and the highest gross, as well as which genres generally had poor records in those three categories, we're able to confidently provide three recommendations. Despite the limitations outlined, these recommendations are strong starting points to consider before moving into the details around budget, cast, director, etc."
   ]
  },
  {
   "cell_type": "markdown",
   "id": "11593bc6-cc28-46ea-a4f6-892881385fc9",
   "metadata": {},
   "source": [
    "### 1. Invest in `Animation`\n",
    "\n",
    "Seeing as how the `Animation` genre was among the highest performing genres across all three factors (gross, average rating, average vote count), in addition to the fact that it was the only genre to be present across all three lists numerating the overlapping genres across those three factors (Highest Gross & Vote Count, Highest Gross & Rating, Highest Vote Count & Rating), **we can confidently recommend investing in `Animation` as a genre that is most likely to draw large audiences, perform well in theaters, and be well-received by audiences and critics.** In other words, it is the only genre we found to be all but guaranteed to both perform highly at the box office and garner a reputation that would predictably put it in high demand among streaming platforms."
   ]
  },
  {
   "cell_type": "markdown",
   "id": "ba7e9363-8dee-4259-b61d-8f4f89a52887",
   "metadata": {},
   "source": [
    "### 2. Other genres to invest in\n",
    "\n",
    "The vast majority of the movies analyzed included multiple genres. In considering the three factors we investigated (gross, rating, and vote count), the following genres had the highest recurrence, indicating they are safe bets as far as investments, and **we recommend investing in some combination of 2-3 of the following genres, or combining 1-2 of the following genres with `Animation`:**\n",
    "\n",
    "1. `Adventure`\n",
    "2. `Sci-Fi`\n",
    "3. `Musical`\n",
    "4. `Family`\n",
    "5. `Action`\n",
    "6. `Fantasy`\n",
    "7. `Comedy`\n",
    "8. `Thriller`"
   ]
  },
  {
   "cell_type": "markdown",
   "id": "d131622c-4895-4c91-b5b2-b7f19e73db58",
   "metadata": {},
   "source": [
    "### 3. Genres to avoid\n",
    "\n",
    "The analysis also helped us identify genres that performed poorly generally speaking according to our three metrics. It should be said that this is not an indictment of these genres overall, as we did see the genres present to varying degrees among the well-performing ones. However, their recurrence among the `Bottom 10 Genres` would at least indicate that investment in films of the following genres at best would be risky, as for example `Horror` movies can at times perform extremely well, but it is also very easy to go wrong with those movies. \n",
    "\n",
    "For this reason, **we recommend avoiding investment in the following genres**:\n",
    "\n",
    "1. `Documentary`\n",
    "2. `War`\n",
    "3. `News`\n",
    "4. `Crime`\n",
    "5. `Romance`\n",
    "6. `Biography`\n",
    "7. `Horror`"
   ]
  }
 ],
 "metadata": {
  "kernelspec": {
   "display_name": "Python 3 (ipykernel)",
   "language": "python",
   "name": "python3"
  },
  "language_info": {
   "codemirror_mode": {
    "name": "ipython",
    "version": 3
   },
   "file_extension": ".py",
   "mimetype": "text/x-python",
   "name": "python",
   "nbconvert_exporter": "python",
   "pygments_lexer": "ipython3",
   "version": "3.9.18"
  }
 },
 "nbformat": 4,
 "nbformat_minor": 5
}
